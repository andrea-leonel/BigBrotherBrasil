{
 "cells": [
  {
   "cell_type": "code",
   "execution_count": 109,
   "id": "6334adcf-d581-4640-81d4-1813b5a7faa3",
   "metadata": {},
   "outputs": [],
   "source": [
    "# Libraries\n",
    "\n",
    "import pandas as pd\n",
    "import requests\n",
    "from bs4 import BeautifulSoup\n",
    "from IPython.display import display\n",
    "from io import StringIO\n",
    "import csv\n",
    "import gzip\n",
    "from unidecode import unidecode\n",
    "from dotenv import load_dotenv\n",
    "import os\n",
    "from sqlalchemy import create_engine"
   ]
  },
  {
   "cell_type": "code",
   "execution_count": 111,
   "id": "d96bedd5-2330-4b93-b332-191b4288fa13",
   "metadata": {},
   "outputs": [],
   "source": [
    "# URL of the Wikipedia page containing 25 tables with the contestants' information\n",
    "url = \"https://pt.wikipedia.org/wiki/Lista_de_participantes_do_Big_Brother_Brasil\"\n",
    "\n",
    "# Requesting the URL and locating the relevant tables\n",
    "response = requests.get(url)\n",
    "soup = BeautifulSoup(response.content, 'html.parser')\n",
    "\n",
    "def remove_accents(text):\n",
    "    return unidecode(text) if isinstance(text, str) else text\n",
    "\n",
    "# Iterate through all text elements in the HTML and replace accents\n",
    "for element in soup.find_all(string=True):\n",
    "    element.replace_with(remove_accents(element))\n",
    "\n",
    "tables = soup.find_all(\"table\", {\"class\": \"wikitable\"})\n",
    "\n",
    "#Storing the tables into a dataframe with a table identifier 'Edicao' (Season).\n",
    "dataframes = []\n",
    "\n",
    "for i, table in enumerate(tables):  # Skip the first two tables\n",
    "    df = pd.read_html(StringIO(str(table)))[0]  # Convert HTML table to DataFrame\n",
    "\n",
    "    # There are aliases in bold in the Participante/Nome Completo column which are necessary to do the join with other tables\n",
    "    aliases = []\n",
    "    participante_column = None\n",
    "\n",
    "    headers = [header.text.strip() for header in table.find_all(\"th\")]\n",
    "\n",
    "    for idx, header in enumerate(headers): # Find the index for \"Participante\" or \"Nome completo\"\n",
    "        if \"Participante\" in header or \"Nome completo\" in header:\n",
    "            participante_column = idx\n",
    "            break\n",
    "            \n",
    "    if participante_column is not None: # Ensure the index is found before proceeding\n",
    "        rows = table.find_all(\"tr\")\n",
    "        for row in rows:\n",
    "            cells = row.find_all(\"td\")\n",
    "            if len(cells) > participante_column: \n",
    "                bold_tag = cells[participante_column].find(\"b\")  # Extract <b> tag content\n",
    "                aliases.append(bold_tag.text.strip() if bold_tag else \"\")\n",
    "            else:\n",
    "                aliases.append(\"\")\n",
    "\n",
    "    aliases = aliases[1:]\n",
    "    df['alias'] = aliases\n",
    "    df['Edicao'] = f'{i+1}'  # Add a TableID column, start from Table_3\n",
    "    dataframes.append(df)\n",
    "\n",
    "contestants = pd.concat(dataframes, ignore_index=True)\n",
    "\n",
    "# One of the tables had the Name column named differently, fixing this:\n",
    "contestants['Nome completo'] = contestants['Nome completo'].fillna(contestants['Participantes']) \n",
    "\n",
    "# Removing spaces and accents from column names\n",
    "contestants.rename(columns={'Nome completo': 'Nome'}, inplace=True)\n",
    "contestants.rename(columns={'Data de nascimento': 'Data_Nascimento'}, inplace=True)\n",
    "contestants.rename(columns={'Profissão': 'Profissao'}, inplace=True)\n",
    "\n",
    "# Dropping irrelevant columns\n",
    "contestants = contestants.drop(columns=['Ref.', 'Participantes'])\n",
    "\n",
    "# Removing headers of subsequent tables\n",
    "contestants = contestants[contestants[\"Origem\"].str.contains(\"Origem\") == False]"
   ]
  },
  {
   "cell_type": "code",
   "execution_count": 112,
   "id": "f3fd1b60-693b-43d8-94bc-c70d3ee0f836",
   "metadata": {},
   "outputs": [],
   "source": [
    "#There were nas under the Results column for the ongoing season. Replaced these with \"Ongoing\". \n",
    "contestants['Resultado'] = contestants['Resultado'].fillna(value=\"Em andamento em Em andamento\")\n"
   ]
  },
  {
   "cell_type": "code",
   "execution_count": 113,
   "id": "77c838f7-a64c-4081-9d71-7cff5168be8b",
   "metadata": {},
   "outputs": [],
   "source": [
    "# Some contestants are foreigners so we need an extra column to identify if they are Brazilian.\n",
    "\n",
    "brazil_states = ['Acre','Alagoas','Amapá','Amazonas','Bahia','Ceará','Espírito Santo','Goiás','Maranhão','Mato Grosso','Mato Grosso do Sul','Minas Gerais', 'Pará','Paraíba','Paraná','Pernambuco','Piauí','Rio de Janeiro','Rio Grande do Norte','Rio Grande do Sul','Rondônia','Roraima','Santa Catarina','São Paulo','Sergipe','Tocantins','Distrito Federal']\n",
    "\n",
    "contestants['Nacionalidade'] = contestants['Origem'].apply(lambda x: 'Brasileiro' if any(sub in x for sub in brazil_states) else 'Estrangeiro')"
   ]
  },
  {
   "cell_type": "code",
   "execution_count": 114,
   "id": "2a2ee9c9-d189-47dc-a74a-e47af47b6fa0",
   "metadata": {},
   "outputs": [],
   "source": [
    "# Split the Origem column into City & State for Brazilians. For foreigners, it should say \"Foreigner\".\n",
    "\n",
    "contestants[['Cidade','Estado']] = contestants['Origem'].str.split(', ', expand=True)\n",
    "\n",
    "condition = contestants['Nacionalidade'] == 'Estrangeiro'\n",
    "contestants.loc[condition,['Cidade']] = 'Estrangeiro'\n",
    "contestants.loc[condition,['Estado']] = 'Estrangeiro'\n",
    "\n",
    "#Removing the Origem column\n",
    "\n",
    "contestants = contestants.drop(columns=['Origem'])\n"
   ]
  },
  {
   "cell_type": "code",
   "execution_count": 115,
   "id": "17473fa7-e10f-4319-a0ec-4e86baa93c1b",
   "metadata": {},
   "outputs": [],
   "source": [
    "#Splitting the Resultado column to show the Result and Date separately\n",
    "\n",
    "contestants[['Resultado','Data_Resultado']] = contestants['Resultado'].str.split(' em ', expand=True)"
   ]
  },
  {
   "cell_type": "code",
   "execution_count": 116,
   "id": "9bbadaed-3a6a-4251-8da0-9e7bd1c0278d",
   "metadata": {},
   "outputs": [],
   "source": [
    "# Adding Gender using data from the Brazilian Census. When the names are not included in the census, it uses the gendered words in Resultado to determine Gender.\n",
    "\n",
    "# Function that makes a request to the census API and returns the gender\n",
    "\n",
    "def load_data():\n",
    "\n",
    "    url = 'https://raw.githubusercontent.com/andrea-leonel/BigBrotherBrasilAnalysis/main/0_webscraping/nomes.csv.gz'\n",
    "    response = requests.get(url)\n",
    "    \n",
    "\n",
    "    if response.status_code == 200:\n",
    "        compressed_data = response.content\n",
    "        decompressed_data = gzip.decompress(compressed_data)\n",
    "        csv_data = decompressed_data.decode('utf-8').splitlines()\n",
    "        csv_reader = csv.DictReader(csv_data)\n",
    "        data = {row[\"first_name\"]: row[\"classification\"] for row in csv_reader}\n",
    "        return data\n",
    "    else:\n",
    "        print(\"github url not accessible\")\n",
    "\n",
    "\n",
    "gender_dict = load_data()\n",
    "\n",
    "# Function to extract first name from Name, uppercase it, and remove accents to match the dictionary formatting\n",
    "def get_first_name(Nome):\n",
    "    first_name = Nome.split()[0]\n",
    "    first_name = unidecode(first_name)\n",
    "    return first_name.upper()\n",
    "\n",
    "# Apply the function to extract first names\n",
    "contestants['Primeiro_Nome'] = contestants['Nome'].apply(get_first_name)\n",
    "contestants['Genero'] = contestants['Primeiro_Nome'].map(gender_dict)\n",
    "\n",
    "# For the Names not included in the census, try to identify the gender based on gendered words in Resultado.\n",
    "\n",
    "# Function to determine gender based on the last letter of the Resultado column\n",
    "def determine_gender(Resultado):\n",
    "    if Resultado[-1].lower() == 'a':\n",
    "        return 'F'\n",
    "    elif Resultado[-1].lower() == 'o':\n",
    "        return 'M'\n",
    "    else:\n",
    "        return 'NA'\n",
    "\n",
    "# Apply the function only to rows where 'Gender' is NaN\n",
    "contestants['Genero'] = contestants.apply(\n",
    "    lambda row: determine_gender(row['Resultado']) if pd.isna(row['Genero']) else row['Genero'],\n",
    "    axis=1\n",
    ")"
   ]
  },
  {
   "cell_type": "code",
   "execution_count": 117,
   "id": "fdd77d0c-ab5e-4ca0-9a05-6ab226b058a6",
   "metadata": {},
   "outputs": [],
   "source": [
    "#Normalising gendered words in Resultado\n",
    "\n",
    "contestants['Resultado'] = contestants['Resultado'].replace('Vencedora','Vencedor')\n",
    "contestants['Resultado'] = contestants['Resultado'].str.replace(r'\\beliminada\\b', 'eliminado', regex=True)\n",
    "contestants['Resultado'] = contestants['Resultado'].replace('Expulsa','Expulso')\n",
    "contestants['Resultado'] = contestants['Resultado'].replace('Retirada','Retirado')\n",
    "\n"
   ]
  },
  {
   "cell_type": "code",
   "execution_count": 118,
   "id": "44fa62a1-2001-40a9-8e94-105cd02e11dd",
   "metadata": {},
   "outputs": [],
   "source": [
    "# Adding the year of each contestant show\n",
    "\n",
    "contestants['Ano_Edicao'] = contestants['Data_Resultado'].str.slice(-4)\n",
    "contestants.loc[contestants['Data_Resultado'] == 'Em andamento', \"Ano_Edicao\"] = \"2025\""
   ]
  },
  {
   "cell_type": "code",
   "execution_count": 119,
   "id": "0bdb40b9-214e-4cb4-80b2-47b5b210722a",
   "metadata": {},
   "outputs": [],
   "source": [
    "# Create unique ids for the contestants\n",
    "\n",
    "unique_contestants = contestants['Nome'].unique()\n",
    "name_to_id = {name: id for id, name in enumerate(unique_contestants, start=1)}\n",
    "\n",
    "contestants['ID_Participante'] = contestants['Nome'].map(name_to_id)\n"
   ]
  },
  {
   "cell_type": "code",
   "execution_count": 120,
   "id": "ebbd8bce-4a8a-43e7-86f8-3fd075f08e0d",
   "metadata": {},
   "outputs": [],
   "source": [
    "\n",
    "#Normalising gendered words in Profissao\n",
    "\n",
    "contestants['Profissao'] = contestants['Profissao'].str.replace('endedora', 'endedor', regex=True)\n",
    "contestants['Profissao'] = contestants['Profissao'].str.replace('ssessora', 'ssessor', regex=True)\n",
    "contestants['Profissao'] = contestants['Profissao'].str.replace('dvogada', 'dvogado', regex=True)\n",
    "contestants['Profissao'] = contestants['Profissao'].str.replace('Atriz', 'Ator', regex=True)\n",
    "contestants['Profissao'] = contestants['Profissao'].str.replace('atriz', 'ator', regex=True)\n",
    "contestants['Profissao'] = contestants['Profissao'].str.replace('arwoman', 'arman', regex=True)\n",
    "contestants['Profissao'] = contestants['Profissao'].str.replace('iomédica', 'iomédico', regex=True)\n",
    "contestants['Profissao'] = contestants['Profissao'].str.replace('ióloga', 'iólogo', regex=True)\n",
    "contestants['Profissao'] = contestants['Profissao'].str.replace('abeleireira', 'abeleireiro', regex=True)\n",
    "contestants['Profissao'] = contestants['Profissao'].str.replace('antora', 'antor', regex=True)\n",
    "contestants['Profissao'] = contestants['Profissao'].str.replace('irurgiã ', 'irurgião ', regex=True)\n",
    "contestants['Profissao'] = contestants['Profissao'].str.replace('irurgiã-', 'irurgião-', regex=True)\n",
    "contestants['Profissao'] = contestants['Profissao'].str.replace('Aeromoça', 'Comissário de voo', regex=True)\n",
    "contestants['Profissao'] = contestants['Profissao'].str.replace('onsultora', 'onsultor', regex=True)\n",
    "contestants['Profissao'] = contestants['Profissao'].str.replace('ançarina', 'ançarino', regex=True)\n",
    "contestants['Profissao'] = contestants['Profissao'].str.replace('Dona', 'Dono', regex=True)\n",
    "contestants['Profissao'] = contestants['Profissao'].str.replace('mpresária', 'mpresário', regex=True)\n",
    "contestants['Profissao'] = contestants['Profissao'].str.replace('nfermeira', 'nfermeiro', regex=True)\n",
    "contestants['Profissao'] = contestants['Profissao'].str.replace('ngenheira', 'ngenheiro', regex=True)\n",
    "contestants['Profissao'] = contestants['Profissao'].str.replace('Criadora de conteúdo', 'Influenciador digital', regex=True)\n",
    "contestants['Profissao'] = contestants['Profissao'].str.replace('ogadora', 'ogador', regex=True)\n",
    "contestants['Profissao'] = contestants['Profissao'].str.replace('utadora', 'utador', regex=True)\n",
    "contestants['Profissao'] = contestants['Profissao'].str.replace('aquiadora', 'aquiador', regex=True)\n",
    "contestants['Profissao'] = contestants['Profissao'].str.replace('presentadora', 'presentador', regex=True)\n",
    "contestants['Profissao'] = contestants['Profissao'].str.replace('otogirl', 'otoboy', regex=True)\n",
    "contestants['Profissao'] = contestants['Profissao'].str.replace('édica', 'édico', regex=True)\n",
    "contestants['Profissao'] = contestants['Profissao'].str.replace('rodutora', 'rodutor', regex=True)\n",
    "contestants['Profissao'] = contestants['Profissao'].str.replace('rofessora', 'rofessor', regex=True)\n",
    "contestants['Profissao'] = contestants['Profissao'].str.replace('outora ', 'outor ', regex=True)\n",
    "contestants['Profissao'] = contestants['Profissao'].str.replace('romotora', 'romotor', regex=True)\n",
    "contestants['Profissao'] = contestants['Profissao'].str.replace('écnica', 'écnico', regex=True)\n",
    "contestants['Profissao'] = contestants['Profissao'].str.replace('sicóloga', 'sicólogo', regex=True)\n",
    "contestants['Profissao'] = contestants['Profissao'].str.replace('ublicitária', 'ublicitário', regex=True)\n",
    "contestants['Profissao'] = contestants['Profissao'].str.replace('radutora', 'radutor', regex=True)\n",
    "contestants['Profissao'] = contestants['Profissao'].str.replace('peradora', 'perador', regex=True)\n",
    "contestants['Profissao'] = contestants['Profissao'].str.replace('nfermeira', 'nfermeiro', regex=True)\n",
    "contestants['Profissao'] = contestants['Profissao'].str.replace('youtuber', 'influenciador digital', regex=True)\n",
    "contestants['Profissao'] = contestants['Profissao'].str.replace('Youtuber', 'Influenciador digital', regex=True)\n",
    "contestants['Profissao'] = contestants['Profissao'].str.replace('nfluenciadora digital', 'nfluenciador digital', regex=True)\n",
    "contestants['Profissao'] = contestants['Profissao'].str.replace('posentada', 'posentado', regex=True)\n",
    "contestants['Profissao'] = contestants['Profissao'].str.replace('ducadora', 'ducador', regex=True)\n",
    "contestants['Profissao'] = contestants['Profissao'].str.replace('Ginasta', 'Atleta de ginástica artística', regex=True)\n",
    "contestants['Profissao'] = contestants['Profissao'].str.replace('ailarina', 'ailarino', regex=True)\n",
    "contestants['Profissao'] = contestants['Profissao'].str.replace('onciliadora', 'onciliador', regex=True)\n",
    "contestants['Profissao'] = contestants['Profissao'].str.replace('onfeiteira', 'onfeiteiro', regex=True)\n",
    "contestants['Profissao'] = contestants['Profissao'].str.replace('oordenadora', 'oordenador', regex=True)\n",
    "contestants['Profissao'] = contestants['Profissao'].str.replace('orretora', 'orretor', regex=True)\n",
    "contestants['Profissao'] = contestants['Profissao'].str.replace('Hostess', 'Host', regex=True)\n",
    "contestants['Profissao'] = contestants['Profissao'].str.replace('ráfica', 'ráfico', regex=True)\n",
    "contestants['Profissao'] = contestants['Profissao'].str.replace('Doceira', 'Confeiteiro', regex=True)\n",
    "contestants['Profissao'] = contestants['Profissao'].str.replace('musa', 'muso', regex=True)\n",
    "contestants['Profissao'] = contestants['Profissao'].str.replace('grônoma', 'grônomo', regex=True)\n",
    "contestants['Profissao'] = contestants['Profissao'].str.replace('uncionária pública', 'uncionário público', regex=True)\n",
    "contestants['Profissao'] = contestants['Profissao'].str.replace('arota', 'aroto', regex=True)\n",
    "contestants['Profissao'] = contestants['Profissao'].str.replace('otoqueiro', 'otoboy', regex=True)\n",
    "contestants['Profissao'] = contestants['Profissao'].str.replace('Paratleta', 'Atleta paratleta', regex=True)\n",
    "contestants['Profissao'] = contestants['Profissao'].str.replace('Surfista profissional', 'Surfista', regex=True)\n",
    "contestants['Profissao'] = contestants['Profissao'].str.replace('Surfista', 'Atleta surfista', regex=True)\n",
    "contestants['Profissao'] = contestants['Profissao'].str.replace('eterinária', 'eterinário', regex=True)\n"
   ]
  },
  {
   "cell_type": "code",
   "execution_count": 121,
   "id": "aee44b9e-15d7-4876-a3e1-831eeaaf94fd",
   "metadata": {},
   "outputs": [
    {
     "name": "stdout",
     "output_type": "stream",
     "text": [
      "<class 'pandas.core.frame.DataFrame'>\n",
      "RangeIndex: 436 entries, 0 to 435\n",
      "Data columns (total 14 columns):\n",
      " #   Column           Non-Null Count  Dtype \n",
      "---  ------           --------------  ----- \n",
      " 0   Nome             436 non-null    object\n",
      " 1   Data_Nascimento  436 non-null    object\n",
      " 2   Profissao        436 non-null    object\n",
      " 3   Resultado        436 non-null    object\n",
      " 4   alias            436 non-null    object\n",
      " 5   Edicao           436 non-null    object\n",
      " 6   Nacionalidade    436 non-null    object\n",
      " 7   Cidade           436 non-null    object\n",
      " 8   Estado           436 non-null    object\n",
      " 9   Data_Resultado   436 non-null    object\n",
      " 10  Primeiro_Nome    436 non-null    object\n",
      " 11  Genero           436 non-null    object\n",
      " 12  Ano_Edicao       436 non-null    object\n",
      " 13  ID_Participante  436 non-null    int64 \n",
      "dtypes: int64(1), object(13)\n",
      "memory usage: 47.8+ KB\n"
     ]
    },
    {
     "data": {
      "text/plain": [
       "None"
      ]
     },
     "metadata": {},
     "output_type": "display_data"
    }
   ],
   "source": [
    "display(contestants.info())"
   ]
  },
  {
   "cell_type": "code",
   "execution_count": 127,
   "id": "c99b57a0-2c6a-4863-a88f-11b4ac527b56",
   "metadata": {},
   "outputs": [
    {
     "name": "stdout",
     "output_type": "stream",
     "text": [
      "Username: andrea_user\n",
      "Host: localhost\n",
      "Port: 5432\n",
      "Database: bigbrotherbrasil\n",
      "Schema: wikipedia\n"
     ]
    }
   ],
   "source": [
    "# Load environment variables from .env file\n",
    "env_path = os.path.abspath(\"credentials.env\")\n",
    "\n",
    "# Load explicitly\n",
    "load_dotenv(dotenv_path=env_path, override=True)\n",
    "\n",
    "# Retrieve values\n",
    "username = os.getenv('POSTGRES_USER')\n",
    "password = os.getenv('POSTGRES_PASSWORD')\n",
    "host = os.getenv('POSTGRES_HOST')\n",
    "port = os.getenv('POSTGRES_PORT')\n",
    "database = os.getenv('POSTGRES_DB')\n",
    "schema = os.getenv('POSTGRES_SCHEMA')\n",
    "\n",
    "print(\"Username:\", username)\n",
    "print(\"Host:\", host)\n",
    "print(\"Port:\", port)\n",
    "print(\"Database:\", database)\n",
    "print(\"Schema:\", schema)"
   ]
  },
  {
   "cell_type": "code",
   "execution_count": 128,
   "id": "4c749ed5-9128-484d-bb24-2209c8a8c9c3",
   "metadata": {},
   "outputs": [
    {
     "name": "stdout",
     "output_type": "stream",
     "text": [
      "DataFrame written to Postgres successfully!\n"
     ]
    }
   ],
   "source": [
    "# Build the engine\n",
    "engine = create_engine(f'postgresql+psycopg2://{username}:{password}@{host}:{port}/{database}')\n",
    "\n",
    "# Write DataFrame to Postgres\n",
    "contestants.to_sql('contestants', schema=schema, con=engine, if_exists='replace', index=False)\n",
    "print(\"DataFrame written to Postgres successfully!\")"
   ]
  },
  {
   "cell_type": "code",
   "execution_count": null,
   "id": "e862e0a4-015f-4b85-952f-266cf2895a84",
   "metadata": {},
   "outputs": [],
   "source": []
  }
 ],
 "metadata": {
  "kernelspec": {
   "display_name": "Python 3 (ipykernel)",
   "language": "python",
   "name": "python3"
  },
  "language_info": {
   "codemirror_mode": {
    "name": "ipython",
    "version": 3
   },
   "file_extension": ".py",
   "mimetype": "text/x-python",
   "name": "python",
   "nbconvert_exporter": "python",
   "pygments_lexer": "ipython3",
   "version": "3.12.3"
  }
 },
 "nbformat": 4,
 "nbformat_minor": 5
}
