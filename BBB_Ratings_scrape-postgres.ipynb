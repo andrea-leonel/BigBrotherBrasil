{
 "cells": [
  {
   "cell_type": "code",
   "execution_count": 20,
   "id": "4ace0375-0298-412e-aab5-bbb991102bfb",
   "metadata": {},
   "outputs": [
    {
     "name": "stdout",
     "output_type": "stream",
     "text": [
      "Ratings table not found\n",
      "Error processing https://pt.wikipedia.org/wiki/Big_Brother_Brasil_1: cannot access local variable 'Ratings' where it is not associated with a value\n",
      "Header Ratings not available\n",
      "Ratings table not found\n",
      "Error processing https://pt.wikipedia.org/wiki/Big_Brother_Brasil_2: cannot access local variable 'Ratings' where it is not associated with a value\n",
      "Header Ratings not available\n",
      "Ratings table not found\n",
      "Error processing https://pt.wikipedia.org/wiki/Big_Brother_Brasil_3: cannot access local variable 'Ratings' where it is not associated with a value\n",
      "Header Ratings not available\n",
      "Ratings table not found\n",
      "Error processing https://pt.wikipedia.org/wiki/Big_Brother_Brasil_4: cannot access local variable 'Ratings' where it is not associated with a value\n",
      "Ratings table not found\n",
      "Error processing https://pt.wikipedia.org/wiki/Big_Brother_Brasil_5: cannot access local variable 'Ratings' where it is not associated with a value\n",
      "Header Ratings not available\n",
      "Ratings table not found\n",
      "Error processing https://pt.wikipedia.org/wiki/Big_Brother_Brasil_6: cannot access local variable 'Ratings' where it is not associated with a value\n",
      "Header Ratings not available\n",
      "Ratings table not found\n",
      "Error processing https://pt.wikipedia.org/wiki/Big_Brother_Brasil_7: cannot access local variable 'Ratings' where it is not associated with a value\n",
      "Ratings table not found\n",
      "Error processing https://pt.wikipedia.org/wiki/Big_Brother_Brasil_8: cannot access local variable 'Ratings' where it is not associated with a value\n",
      "Header Ratings not available\n",
      "Ratings table not found\n",
      "Error processing https://pt.wikipedia.org/wiki/Big_Brother_Brasil_9: cannot access local variable 'Ratings' where it is not associated with a value\n",
      "Ratings information for https://pt.wikipedia.org/wiki/Big_Brother_Brasil_10 appended\n",
      "Ratings information for https://pt.wikipedia.org/wiki/Big_Brother_Brasil_11 appended\n",
      "Ratings information for https://pt.wikipedia.org/wiki/Big_Brother_Brasil_12 appended\n",
      "Header Ratings not available\n",
      "Ratings table not found\n",
      "Error processing https://pt.wikipedia.org/wiki/Big_Brother_Brasil_13: cannot access local variable 'Ratings' where it is not associated with a value\n",
      "Header Ratings not available\n",
      "Ratings table not found\n",
      "Error processing https://pt.wikipedia.org/wiki/Big_Brother_Brasil_14: cannot access local variable 'Ratings' where it is not associated with a value\n",
      "Ratings information for https://pt.wikipedia.org/wiki/Big_Brother_Brasil_15 appended\n",
      "Ratings information for https://pt.wikipedia.org/wiki/Big_Brother_Brasil_16 appended\n",
      "Ratings information for https://pt.wikipedia.org/wiki/Big_Brother_Brasil_17 appended\n",
      "Ratings information for https://pt.wikipedia.org/wiki/Big_Brother_Brasil_18 appended\n",
      "Ratings information for https://pt.wikipedia.org/wiki/Big_Brother_Brasil_19 appended\n",
      "Ratings information for https://pt.wikipedia.org/wiki/Big_Brother_Brasil_20 appended\n",
      "Ratings information for https://pt.wikipedia.org/wiki/Big_Brother_Brasil_21 appended\n",
      "Ratings information for https://pt.wikipedia.org/wiki/Big_Brother_Brasil_22 appended\n",
      "Ratings information for https://pt.wikipedia.org/wiki/Big_Brother_Brasil_23 appended\n",
      "Ratings information for https://pt.wikipedia.org/wiki/Big_Brother_Brasil_24 appended\n",
      "Ratings information for https://pt.wikipedia.org/wiki/Big_Brother_Brasil_25 appended\n"
     ]
    }
   ],
   "source": [
    "# Libraries\n",
    "\n",
    "import pandas as pd\n",
    "import requests\n",
    "from bs4 import BeautifulSoup\n",
    "from IPython.display import display\n",
    "from io import StringIO\n",
    "import csv\n",
    "import gzip\n",
    "from unidecode import unidecode\n",
    "import html5lib\n",
    "from dotenv import load_dotenv\n",
    "import os\n",
    "from sqlalchemy import create_engine\n",
    "\n",
    "def ratings_scrape(url):\n",
    "\n",
    "    # Fetch the url content\n",
    "    response = requests.get(url)\n",
    "\n",
    "    # Parse the url content with BeautifulSoup\n",
    "    soup = BeautifulSoup(response.text, 'html5lib')\n",
    "    def remove_accents(text):\n",
    "        return unidecode(text) if isinstance(text, str) else text\n",
    "\n",
    "    # Iterate through all text elements in the HTML and replace accents\n",
    "    for element in soup.find_all(string=True):\n",
    "        element.replace_with(remove_accents(element))\n",
    "\n",
    "    # Find the h2\n",
    "    h2_header = soup.find('h2', {'id': 'Audiência'})\n",
    "    desired_table = None\n",
    "    next_div = None\n",
    "\n",
    "    if h2_header:\n",
    "        parent_div = h2_header.find_parent('div')\n",
    "        next_div = parent_div.find_next_sibling()\n",
    "\n",
    "        while next_div:\n",
    "            if next_div.name == \"table\":\n",
    "                desired_table = next_div\n",
    "                break\n",
    "            else:\n",
    "                next_div = next_div.find_next_sibling()\n",
    "                if next_div.find('h2'):\n",
    "                    break \n",
    "            \n",
    "    else: print(\"Header Ratings not available\")\n",
    "\n",
    "    if desired_table:\n",
    "\n",
    "        # Replacing commas for periods in decimals\n",
    "        for element in desired_table.find_all(string=True):\n",
    "            if ',' in element:\n",
    "                updated_text = element.replace(',', '.')\n",
    "                element.replace_with(updated_text)\n",
    "        \n",
    "        # Parsing html table to DataFrame\n",
    "        html_to_table = pd.read_html(StringIO(str(desired_table)))\n",
    "        Ratings = html_to_table[0]\n",
    "\n",
    "        # Keep only the bottom row with the overall ratings for the season\n",
    "        Ratings = Ratings[Ratings[\"SEG\"] == \"Media da edicao\"]\n",
    "\n",
    "        # Adding the year of the current file\n",
    "        Ratings = Ratings.copy()\n",
    "        Ratings['Edicao'] = int(url.rsplit('_', 1)[-1])\n",
    "\n",
    "        # Keeping only relevant columns\n",
    "        relevant_columns = Ratings[['Edicao','Media semanal']]\n",
    "        Ratings = relevant_columns\n",
    "\n",
    "        # Rename column\n",
    "        Ratings.rename(columns={\"Media semanal\": \"Media_da_edicao\"}, inplace=True)\n",
    "\n",
    "    else: print(\"Ratings table not found\")\n",
    "\n",
    "    return Ratings\n",
    "\n",
    "# Appending the Ratings to one single dataframe\n",
    "\n",
    "base_url = \"https://pt.wikipedia.org/wiki/Big_Brother_Brasil_\"\n",
    "number_of_shows = 25\n",
    "\n",
    "urls = [f\"{base_url}{i}\" for i in range(1, number_of_shows + 1)]\n",
    "\n",
    "Combined_ratings = []\n",
    "\n",
    "for url in urls:\n",
    "    try:\n",
    "        ratings_new = ratings_scrape(url)\n",
    "        Combined_ratings.append(ratings_new)\n",
    "        print(f\"Ratings information for {url} appended\")\n",
    "    except Exception as e:\n",
    "        print(f\"Error processing {url}: {e}\")\n",
    "    \n",
    "# Save to csv\n",
    "Ratings_average = pd.concat(Combined_ratings, ignore_index=True)\n",
    "Ratings_average.to_csv(f'ratingaverage')\n",
    "    "
   ]
  },
  {
   "cell_type": "code",
   "execution_count": 21,
   "id": "fc79b123-cb7c-4177-b9c9-c46bd5faa69d",
   "metadata": {},
   "outputs": [
    {
     "name": "stdout",
     "output_type": "stream",
     "text": [
      "<class 'pandas.core.frame.DataFrame'>\n",
      "RangeIndex: 14 entries, 0 to 13\n",
      "Data columns (total 2 columns):\n",
      " #   Column           Non-Null Count  Dtype  \n",
      "---  ------           --------------  -----  \n",
      " 0   Edicao           14 non-null     int64  \n",
      " 1   Media_da_edicao  14 non-null     float64\n",
      "dtypes: float64(1), int64(1)\n",
      "memory usage: 356.0 bytes\n"
     ]
    },
    {
     "data": {
      "text/plain": [
       "None"
      ]
     },
     "metadata": {},
     "output_type": "display_data"
    }
   ],
   "source": [
    "display(Ratings_average.info())"
   ]
  },
  {
   "cell_type": "code",
   "execution_count": 22,
   "id": "33ec77d1-29a8-423d-8dac-c2476d5ba79d",
   "metadata": {},
   "outputs": [
    {
     "name": "stdout",
     "output_type": "stream",
     "text": [
      "Username: andrea_user\n",
      "Host: localhost\n",
      "Port: 5432\n",
      "Database: bigbrotherbrasil\n",
      "Schema: wikipedia\n"
     ]
    }
   ],
   "source": [
    "# Load environment variables from .env file\n",
    "env_path = os.path.abspath(\"credentials.env\")\n",
    "\n",
    "# Load explicitly\n",
    "load_dotenv(dotenv_path=env_path, override=True)\n",
    "\n",
    "# Retrieve values\n",
    "username = os.getenv('POSTGRES_USER')\n",
    "password = os.getenv('POSTGRES_PASSWORD')\n",
    "host = os.getenv('POSTGRES_HOST')\n",
    "port = os.getenv('POSTGRES_PORT')\n",
    "database = os.getenv('POSTGRES_DB')\n",
    "schema = os.getenv('POSTGRES_SCHEMA')\n",
    "\n",
    "print(\"Username:\", username)\n",
    "print(\"Host:\", host)\n",
    "print(\"Port:\", port)\n",
    "print(\"Database:\", database)\n",
    "print(\"Schema:\", schema)"
   ]
  },
  {
   "cell_type": "code",
   "execution_count": 23,
   "id": "559c48e5-fb10-43d6-b04d-1adcce7a6021",
   "metadata": {},
   "outputs": [
    {
     "name": "stdout",
     "output_type": "stream",
     "text": [
      "DataFrame written to Postgres successfully!\n"
     ]
    }
   ],
   "source": [
    "# Build the engine\n",
    "engine = create_engine(f'postgresql+psycopg2://{username}:{password}@{host}:{port}/{database}')\n",
    "\n",
    "# Write DataFrame to Postgres\n",
    "Ratings_average.to_sql('ratings_average', con=engine, schema=schema, if_exists='replace', index=False)\n",
    "print(\"DataFrame written to Postgres successfully!\")"
   ]
  },
  {
   "cell_type": "code",
   "execution_count": null,
   "id": "1086d5a5-c96b-4f69-857b-3f51ea9bc539",
   "metadata": {},
   "outputs": [],
   "source": []
  },
  {
   "cell_type": "code",
   "execution_count": null,
   "id": "701cb91a-15e6-488a-826b-db08f56a81c2",
   "metadata": {},
   "outputs": [],
   "source": []
  }
 ],
 "metadata": {
  "kernelspec": {
   "display_name": "Python 3 (ipykernel)",
   "language": "python",
   "name": "python3"
  },
  "language_info": {
   "codemirror_mode": {
    "name": "ipython",
    "version": 3
   },
   "file_extension": ".py",
   "mimetype": "text/x-python",
   "name": "python",
   "nbconvert_exporter": "python",
   "pygments_lexer": "ipython3",
   "version": "3.12.3"
  }
 },
 "nbformat": 4,
 "nbformat_minor": 5
}
