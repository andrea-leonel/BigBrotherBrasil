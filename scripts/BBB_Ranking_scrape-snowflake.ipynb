{
 "cells": [
  {
   "cell_type": "code",
   "execution_count": 66,
   "id": "e027f162-505e-4588-a811-0c32fd168bc5",
   "metadata": {},
   "outputs": [
    {
     "name": "stderr",
     "output_type": "stream",
     "text": [
      "DEBUG:urllib3.connectionpool:Starting new HTTPS connection (1): pt.wikipedia.org:443\n",
      "DEBUG:urllib3.connectionpool:https://pt.wikipedia.org:443 \"GET /wiki/Big_Brother_Brasil_1 HTTP/11\" 200 32705\n",
      "DEBUG:urllib3.connectionpool:Starting new HTTPS connection (1): pt.wikipedia.org:443\n",
      "DEBUG:urllib3.connectionpool:https://pt.wikipedia.org:443 \"GET /wiki/Big_Brother_Brasil_2 HTTP/11\" 200 24895\n"
     ]
    },
    {
     "name": "stdout",
     "output_type": "stream",
     "text": [
      "Ranking information for https://pt.wikipedia.org/wiki/Big_Brother_Brasil_1 appended\n"
     ]
    },
    {
     "name": "stderr",
     "output_type": "stream",
     "text": [
      "DEBUG:urllib3.connectionpool:Starting new HTTPS connection (1): pt.wikipedia.org:443\n",
      "DEBUG:urllib3.connectionpool:https://pt.wikipedia.org:443 \"GET /wiki/Big_Brother_Brasil_3 HTTP/11\" 200 28625\n"
     ]
    },
    {
     "name": "stdout",
     "output_type": "stream",
     "text": [
      "Ranking information for https://pt.wikipedia.org/wiki/Big_Brother_Brasil_2 appended\n"
     ]
    },
    {
     "name": "stderr",
     "output_type": "stream",
     "text": [
      "DEBUG:urllib3.connectionpool:Starting new HTTPS connection (1): pt.wikipedia.org:443\n",
      "DEBUG:urllib3.connectionpool:https://pt.wikipedia.org:443 \"GET /wiki/Big_Brother_Brasil_4 HTTP/11\" 200 33067\n"
     ]
    },
    {
     "name": "stdout",
     "output_type": "stream",
     "text": [
      "Ranking information for https://pt.wikipedia.org/wiki/Big_Brother_Brasil_3 appended\n"
     ]
    },
    {
     "name": "stderr",
     "output_type": "stream",
     "text": [
      "DEBUG:urllib3.connectionpool:Starting new HTTPS connection (1): pt.wikipedia.org:443\n",
      "DEBUG:urllib3.connectionpool:https://pt.wikipedia.org:443 \"GET /wiki/Big_Brother_Brasil_5 HTTP/11\" 200 31333\n"
     ]
    },
    {
     "name": "stdout",
     "output_type": "stream",
     "text": [
      "Ranking information for https://pt.wikipedia.org/wiki/Big_Brother_Brasil_4 appended\n"
     ]
    },
    {
     "name": "stderr",
     "output_type": "stream",
     "text": [
      "DEBUG:urllib3.connectionpool:Starting new HTTPS connection (1): pt.wikipedia.org:443\n",
      "DEBUG:urllib3.connectionpool:https://pt.wikipedia.org:443 \"GET /wiki/Big_Brother_Brasil_6 HTTP/11\" 200 27254\n"
     ]
    },
    {
     "name": "stdout",
     "output_type": "stream",
     "text": [
      "Ranking information for https://pt.wikipedia.org/wiki/Big_Brother_Brasil_5 appended\n"
     ]
    },
    {
     "name": "stderr",
     "output_type": "stream",
     "text": [
      "DEBUG:urllib3.connectionpool:Starting new HTTPS connection (1): pt.wikipedia.org:443\n",
      "DEBUG:urllib3.connectionpool:https://pt.wikipedia.org:443 \"GET /wiki/Big_Brother_Brasil_7 HTTP/11\" 200 34987\n"
     ]
    },
    {
     "name": "stdout",
     "output_type": "stream",
     "text": [
      "Ranking information for https://pt.wikipedia.org/wiki/Big_Brother_Brasil_6 appended\n"
     ]
    },
    {
     "name": "stderr",
     "output_type": "stream",
     "text": [
      "DEBUG:urllib3.connectionpool:Starting new HTTPS connection (1): pt.wikipedia.org:443\n",
      "DEBUG:urllib3.connectionpool:https://pt.wikipedia.org:443 \"GET /wiki/Big_Brother_Brasil_8 HTTP/11\" 200 35077\n"
     ]
    },
    {
     "name": "stdout",
     "output_type": "stream",
     "text": [
      "Ranking information for https://pt.wikipedia.org/wiki/Big_Brother_Brasil_7 appended\n"
     ]
    },
    {
     "name": "stderr",
     "output_type": "stream",
     "text": [
      "DEBUG:urllib3.connectionpool:Starting new HTTPS connection (1): pt.wikipedia.org:443\n",
      "DEBUG:urllib3.connectionpool:https://pt.wikipedia.org:443 \"GET /wiki/Big_Brother_Brasil_9 HTTP/11\" 200 38313\n"
     ]
    },
    {
     "name": "stdout",
     "output_type": "stream",
     "text": [
      "Ranking information for https://pt.wikipedia.org/wiki/Big_Brother_Brasil_8 appended\n"
     ]
    },
    {
     "name": "stderr",
     "output_type": "stream",
     "text": [
      "DEBUG:urllib3.connectionpool:Starting new HTTPS connection (1): pt.wikipedia.org:443\n",
      "DEBUG:urllib3.connectionpool:https://pt.wikipedia.org:443 \"GET /wiki/Big_Brother_Brasil_10 HTTP/11\" 200 39086\n"
     ]
    },
    {
     "name": "stdout",
     "output_type": "stream",
     "text": [
      "Ranking information for https://pt.wikipedia.org/wiki/Big_Brother_Brasil_9 appended\n"
     ]
    },
    {
     "name": "stderr",
     "output_type": "stream",
     "text": [
      "DEBUG:urllib3.connectionpool:Starting new HTTPS connection (1): pt.wikipedia.org:443\n",
      "DEBUG:urllib3.connectionpool:https://pt.wikipedia.org:443 \"GET /wiki/Big_Brother_Brasil_11 HTTP/11\" 200 37924\n"
     ]
    },
    {
     "name": "stdout",
     "output_type": "stream",
     "text": [
      "Ranking information for https://pt.wikipedia.org/wiki/Big_Brother_Brasil_10 appended\n"
     ]
    },
    {
     "name": "stderr",
     "output_type": "stream",
     "text": [
      "DEBUG:urllib3.connectionpool:Starting new HTTPS connection (1): pt.wikipedia.org:443\n",
      "DEBUG:urllib3.connectionpool:https://pt.wikipedia.org:443 \"GET /wiki/Big_Brother_Brasil_12 HTTP/11\" 200 43837\n"
     ]
    },
    {
     "name": "stdout",
     "output_type": "stream",
     "text": [
      "Ranking information for https://pt.wikipedia.org/wiki/Big_Brother_Brasil_11 appended\n"
     ]
    },
    {
     "name": "stderr",
     "output_type": "stream",
     "text": [
      "DEBUG:urllib3.connectionpool:Starting new HTTPS connection (1): pt.wikipedia.org:443\n",
      "DEBUG:urllib3.connectionpool:https://pt.wikipedia.org:443 \"GET /wiki/Big_Brother_Brasil_13 HTTP/11\" 200 50422\n"
     ]
    },
    {
     "name": "stdout",
     "output_type": "stream",
     "text": [
      "Ranking information for https://pt.wikipedia.org/wiki/Big_Brother_Brasil_12 appended\n"
     ]
    },
    {
     "name": "stderr",
     "output_type": "stream",
     "text": [
      "DEBUG:urllib3.connectionpool:Starting new HTTPS connection (1): pt.wikipedia.org:443\n",
      "DEBUG:urllib3.connectionpool:https://pt.wikipedia.org:443 \"GET /wiki/Big_Brother_Brasil_14 HTTP/11\" 200 40792\n"
     ]
    },
    {
     "name": "stdout",
     "output_type": "stream",
     "text": [
      "Ranking information for https://pt.wikipedia.org/wiki/Big_Brother_Brasil_13 appended\n"
     ]
    },
    {
     "name": "stderr",
     "output_type": "stream",
     "text": [
      "DEBUG:urllib3.connectionpool:Starting new HTTPS connection (1): pt.wikipedia.org:443\n",
      "DEBUG:urllib3.connectionpool:https://pt.wikipedia.org:443 \"GET /wiki/Big_Brother_Brasil_15 HTTP/11\" 200 43903\n"
     ]
    },
    {
     "name": "stdout",
     "output_type": "stream",
     "text": [
      "Ranking information for https://pt.wikipedia.org/wiki/Big_Brother_Brasil_14 appended\n"
     ]
    },
    {
     "name": "stderr",
     "output_type": "stream",
     "text": [
      "DEBUG:urllib3.connectionpool:Starting new HTTPS connection (1): pt.wikipedia.org:443\n",
      "DEBUG:urllib3.connectionpool:https://pt.wikipedia.org:443 \"GET /wiki/Big_Brother_Brasil_16 HTTP/11\" 200 49393\n"
     ]
    },
    {
     "name": "stdout",
     "output_type": "stream",
     "text": [
      "Ranking information for https://pt.wikipedia.org/wiki/Big_Brother_Brasil_15 appended\n"
     ]
    },
    {
     "name": "stderr",
     "output_type": "stream",
     "text": [
      "DEBUG:urllib3.connectionpool:Starting new HTTPS connection (1): pt.wikipedia.org:443\n",
      "DEBUG:urllib3.connectionpool:https://pt.wikipedia.org:443 \"GET /wiki/Big_Brother_Brasil_17 HTTP/11\" 200 67762\n"
     ]
    },
    {
     "name": "stdout",
     "output_type": "stream",
     "text": [
      "Ranking information for https://pt.wikipedia.org/wiki/Big_Brother_Brasil_16 appended\n"
     ]
    },
    {
     "name": "stderr",
     "output_type": "stream",
     "text": [
      "DEBUG:urllib3.connectionpool:Starting new HTTPS connection (1): pt.wikipedia.org:443\n",
      "DEBUG:urllib3.connectionpool:https://pt.wikipedia.org:443 \"GET /wiki/Big_Brother_Brasil_18 HTTP/11\" 200 59749\n"
     ]
    },
    {
     "name": "stdout",
     "output_type": "stream",
     "text": [
      "Ranking information for https://pt.wikipedia.org/wiki/Big_Brother_Brasil_17 appended\n"
     ]
    },
    {
     "name": "stderr",
     "output_type": "stream",
     "text": [
      "DEBUG:urllib3.connectionpool:Starting new HTTPS connection (1): pt.wikipedia.org:443\n",
      "DEBUG:urllib3.connectionpool:https://pt.wikipedia.org:443 \"GET /wiki/Big_Brother_Brasil_19 HTTP/11\" 200 80325\n"
     ]
    },
    {
     "name": "stdout",
     "output_type": "stream",
     "text": [
      "Ranking information for https://pt.wikipedia.org/wiki/Big_Brother_Brasil_18 appended\n"
     ]
    },
    {
     "name": "stderr",
     "output_type": "stream",
     "text": [
      "DEBUG:urllib3.connectionpool:Starting new HTTPS connection (1): pt.wikipedia.org:443\n",
      "DEBUG:urllib3.connectionpool:https://pt.wikipedia.org:443 \"GET /wiki/Big_Brother_Brasil_20 HTTP/11\" 200 104618\n"
     ]
    },
    {
     "name": "stdout",
     "output_type": "stream",
     "text": [
      "Ranking information for https://pt.wikipedia.org/wiki/Big_Brother_Brasil_19 appended\n"
     ]
    },
    {
     "name": "stderr",
     "output_type": "stream",
     "text": [
      "DEBUG:urllib3.connectionpool:Starting new HTTPS connection (1): pt.wikipedia.org:443\n",
      "DEBUG:urllib3.connectionpool:https://pt.wikipedia.org:443 \"GET /wiki/Big_Brother_Brasil_21 HTTP/11\" 200 121128\n"
     ]
    },
    {
     "name": "stdout",
     "output_type": "stream",
     "text": [
      "Ranking information for https://pt.wikipedia.org/wiki/Big_Brother_Brasil_20 appended\n"
     ]
    },
    {
     "name": "stderr",
     "output_type": "stream",
     "text": [
      "DEBUG:urllib3.connectionpool:Starting new HTTPS connection (1): pt.wikipedia.org:443\n",
      "DEBUG:urllib3.connectionpool:https://pt.wikipedia.org:443 \"GET /wiki/Big_Brother_Brasil_22 HTTP/11\" 200 100837\n"
     ]
    },
    {
     "name": "stdout",
     "output_type": "stream",
     "text": [
      "Ranking information for https://pt.wikipedia.org/wiki/Big_Brother_Brasil_21 appended\n"
     ]
    },
    {
     "name": "stderr",
     "output_type": "stream",
     "text": [
      "DEBUG:urllib3.connectionpool:Starting new HTTPS connection (1): pt.wikipedia.org:443\n",
      "DEBUG:urllib3.connectionpool:https://pt.wikipedia.org:443 \"GET /wiki/Big_Brother_Brasil_23 HTTP/11\" 200 126738\n"
     ]
    },
    {
     "name": "stdout",
     "output_type": "stream",
     "text": [
      "Ranking information for https://pt.wikipedia.org/wiki/Big_Brother_Brasil_22 appended\n"
     ]
    },
    {
     "name": "stderr",
     "output_type": "stream",
     "text": [
      "DEBUG:urllib3.connectionpool:Starting new HTTPS connection (1): pt.wikipedia.org:443\n",
      "DEBUG:urllib3.connectionpool:https://pt.wikipedia.org:443 \"GET /wiki/Big_Brother_Brasil_24 HTTP/11\" 200 114856\n"
     ]
    },
    {
     "name": "stdout",
     "output_type": "stream",
     "text": [
      "Ranking information for https://pt.wikipedia.org/wiki/Big_Brother_Brasil_23 appended\n"
     ]
    },
    {
     "name": "stderr",
     "output_type": "stream",
     "text": [
      "DEBUG:urllib3.connectionpool:Starting new HTTPS connection (1): pt.wikipedia.org:443\n",
      "DEBUG:urllib3.connectionpool:https://pt.wikipedia.org:443 \"GET /wiki/Big_Brother_Brasil_25 HTTP/11\" 200 114245\n"
     ]
    },
    {
     "name": "stdout",
     "output_type": "stream",
     "text": [
      "Ranking information for https://pt.wikipedia.org/wiki/Big_Brother_Brasil_24 appended\n",
      "Ranking information for https://pt.wikipedia.org/wiki/Big_Brother_Brasil_25 appended\n",
      "['1' '2' '3' '4' '5' '6' '7' '8' '9' '10' '11' '12' '13' '14' '16' '15'\n",
      " 'Ret.' '17' '18' '19' '20' '22' '21' '23' '24' '25' '26' '27']\n",
      "<class 'pandas.core.frame.DataFrame'>\n",
      "RangeIndex: 468 entries, 0 to 467\n",
      "Data columns (total 7 columns):\n",
      " #   Column             Non-Null Count  Dtype \n",
      "---  ------             --------------  ----- \n",
      " 0   Participante       468 non-null    object\n",
      " 1   Meio_de_indicacao  468 non-null    object\n",
      " 2   Porcent_dos_votos  468 non-null    object\n",
      " 3   Eliminado_em       468 non-null    object\n",
      " 4   Edicao             468 non-null    object\n",
      " 5   Pos                468 non-null    object\n",
      " 6   Indicado_por       468 non-null    object\n",
      "dtypes: object(7)\n",
      "memory usage: 25.7+ KB\n"
     ]
    },
    {
     "data": {
      "text/plain": [
       "None"
      ]
     },
     "metadata": {},
     "output_type": "display_data"
    },
    {
     "data": {
      "text/html": [
       "<div>\n",
       "<style scoped>\n",
       "    .dataframe tbody tr th:only-of-type {\n",
       "        vertical-align: middle;\n",
       "    }\n",
       "\n",
       "    .dataframe tbody tr th {\n",
       "        vertical-align: top;\n",
       "    }\n",
       "\n",
       "    .dataframe thead th {\n",
       "        text-align: right;\n",
       "    }\n",
       "</style>\n",
       "<table border=\"1\" class=\"dataframe\">\n",
       "  <thead>\n",
       "    <tr style=\"text-align: right;\">\n",
       "      <th></th>\n",
       "      <th>Participante</th>\n",
       "      <th>Meio_de_indicacao</th>\n",
       "      <th>Porcent_dos_votos</th>\n",
       "      <th>Eliminado_em</th>\n",
       "      <th>Edicao</th>\n",
       "      <th>Pos</th>\n",
       "      <th>Indicado_por</th>\n",
       "    </tr>\n",
       "  </thead>\n",
       "  <tbody>\n",
       "    <tr>\n",
       "      <th>0</th>\n",
       "      <td>Kleber Bambam</td>\n",
       "      <td>Finalista</td>\n",
       "      <td>68%</td>\n",
       "      <td>Finalista</td>\n",
       "      <td>1</td>\n",
       "      <td>1</td>\n",
       "      <td>Finalista</td>\n",
       "    </tr>\n",
       "    <tr>\n",
       "      <th>1</th>\n",
       "      <td>Vanessa Pascale</td>\n",
       "      <td>Finalista</td>\n",
       "      <td>21%</td>\n",
       "      <td>Finalista</td>\n",
       "      <td>1</td>\n",
       "      <td>2</td>\n",
       "      <td>Finalista</td>\n",
       "    </tr>\n",
       "    <tr>\n",
       "      <th>2</th>\n",
       "      <td>Andre Gabeh</td>\n",
       "      <td>Finalista</td>\n",
       "      <td>11%</td>\n",
       "      <td>Finalista</td>\n",
       "      <td>1</td>\n",
       "      <td>3</td>\n",
       "      <td>Finalista</td>\n",
       "    </tr>\n",
       "    <tr>\n",
       "      <th>3</th>\n",
       "      <td>Sergio Tavares</td>\n",
       "      <td>Lider</td>\n",
       "      <td>52%</td>\n",
       "      <td>Semana 9</td>\n",
       "      <td>1</td>\n",
       "      <td>4</td>\n",
       "      <td>Andre</td>\n",
       "    </tr>\n",
       "    <tr>\n",
       "      <th>4</th>\n",
       "      <td>Alessandra Begliomini</td>\n",
       "      <td>Lider</td>\n",
       "      <td>73%</td>\n",
       "      <td>Semana 8</td>\n",
       "      <td>1</td>\n",
       "      <td>5</td>\n",
       "      <td>Sergio</td>\n",
       "    </tr>\n",
       "    <tr>\n",
       "      <th>...</th>\n",
       "      <td>...</td>\n",
       "      <td>...</td>\n",
       "      <td>...</td>\n",
       "      <td>...</td>\n",
       "      <td>...</td>\n",
       "      <td>...</td>\n",
       "      <td>...</td>\n",
       "    </tr>\n",
       "    <tr>\n",
       "      <th>463</th>\n",
       "      <td>Marcelo Prata</td>\n",
       "      <td>Lideres</td>\n",
       "      <td>55.95%</td>\n",
       "      <td>Semana 1</td>\n",
       "      <td>25</td>\n",
       "      <td>23</td>\n",
       "      <td>Aline &amp; Vinicius</td>\n",
       "    </tr>\n",
       "    <tr>\n",
       "      <th>464</th>\n",
       "      <td>Nicole Oliveira</td>\n",
       "      <td>Disputa pelas ultimas vagas</td>\n",
       "      <td>19.86%</td>\n",
       "      <td>Semana 0</td>\n",
       "      <td>25</td>\n",
       "      <td>25</td>\n",
       "      <td>Disputa pelas ultimas vagas</td>\n",
       "    </tr>\n",
       "    <tr>\n",
       "      <th>465</th>\n",
       "      <td>Paula Oliveira</td>\n",
       "      <td>Disputa pelas ultimas vagas</td>\n",
       "      <td>19.86%</td>\n",
       "      <td>Semana 0</td>\n",
       "      <td>25</td>\n",
       "      <td>25</td>\n",
       "      <td>Disputa pelas ultimas vagas</td>\n",
       "    </tr>\n",
       "    <tr>\n",
       "      <th>466</th>\n",
       "      <td>Cleber Santana</td>\n",
       "      <td>Disputa pelas ultimas vagas</td>\n",
       "      <td>13.74%</td>\n",
       "      <td>Semana 0</td>\n",
       "      <td>25</td>\n",
       "      <td>25</td>\n",
       "      <td>Disputa pelas ultimas vagas</td>\n",
       "    </tr>\n",
       "    <tr>\n",
       "      <th>467</th>\n",
       "      <td>Joseane Monteiro</td>\n",
       "      <td>Disputa pelas ultimas vagas</td>\n",
       "      <td>13.74%</td>\n",
       "      <td>Semana 0</td>\n",
       "      <td>25</td>\n",
       "      <td>25</td>\n",
       "      <td>Disputa pelas ultimas vagas</td>\n",
       "    </tr>\n",
       "  </tbody>\n",
       "</table>\n",
       "<p>468 rows × 7 columns</p>\n",
       "</div>"
      ],
      "text/plain": [
       "              Participante            Meio_de_indicacao Porcent_dos_votos  \\\n",
       "0            Kleber Bambam                    Finalista               68%   \n",
       "1          Vanessa Pascale                    Finalista               21%   \n",
       "2              Andre Gabeh                    Finalista               11%   \n",
       "3           Sergio Tavares                       Lider                52%   \n",
       "4    Alessandra Begliomini                       Lider                73%   \n",
       "..                     ...                          ...               ...   \n",
       "463          Marcelo Prata                     Lideres             55.95%   \n",
       "464        Nicole Oliveira  Disputa pelas ultimas vagas            19.86%   \n",
       "465         Paula Oliveira  Disputa pelas ultimas vagas            19.86%   \n",
       "466         Cleber Santana  Disputa pelas ultimas vagas            13.74%   \n",
       "467       Joseane Monteiro  Disputa pelas ultimas vagas            13.74%   \n",
       "\n",
       "    Eliminado_em Edicao Pos                 Indicado_por  \n",
       "0      Finalista      1   1                    Finalista  \n",
       "1      Finalista      1   2                    Finalista  \n",
       "2      Finalista      1   3                    Finalista  \n",
       "3       Semana 9      1   4                        Andre  \n",
       "4       Semana 8      1   5                       Sergio  \n",
       "..           ...    ...  ..                          ...  \n",
       "463     Semana 1     25  23             Aline & Vinicius  \n",
       "464     Semana 0     25  25  Disputa pelas ultimas vagas  \n",
       "465     Semana 0     25  25  Disputa pelas ultimas vagas  \n",
       "466     Semana 0     25  25  Disputa pelas ultimas vagas  \n",
       "467     Semana 0     25  25  Disputa pelas ultimas vagas  \n",
       "\n",
       "[468 rows x 7 columns]"
      ]
     },
     "metadata": {},
     "output_type": "display_data"
    }
   ],
   "source": [
    "# Libraries\n",
    "\n",
    "import pandas as pd\n",
    "import requests\n",
    "from bs4 import BeautifulSoup\n",
    "from IPython.display import display\n",
    "from io import StringIO\n",
    "import csv\n",
    "import gzip\n",
    "from unidecode import unidecode\n",
    "import html5lib\n",
    "from dotenv import load_dotenv\n",
    "import os\n",
    "import snowflake.connector\n",
    "from snowflake.connector.pandas_tools import write_pandas\n",
    "import logging\n",
    "\n",
    "\n",
    "def ranking_scrape(url):\n",
    "\n",
    "    # Fetch the url content\n",
    "    response = requests.get(url)\n",
    "\n",
    "    # Parse the url content with BeautifulSoup\n",
    "    soup = BeautifulSoup(response.text, 'html5lib')\n",
    "    def remove_accents(text):\n",
    "        return unidecode(text) if isinstance(text, str) else text\n",
    "\n",
    "    # Iterate through all text elements in the HTML and replace accents\n",
    "    for element in soup.find_all(string=True):\n",
    "        element.replace_with(remove_accents(element))\n",
    "\n",
    "    # Find the h2 with id=\"Histórico\"\n",
    "    h2_header = soup.find('h2', {'id': 'Classificação_geral'})\n",
    "    desired_table = None\n",
    "    next_div = None\n",
    "\n",
    "    if h2_header:\n",
    "        parent_div = h2_header.find_parent('div')\n",
    "        next_div = parent_div.find_next_sibling()\n",
    "\n",
    "    if next_div:\n",
    "        if next_div.name == \"table\":\n",
    "            desired_table = next_div\n",
    "        else:\n",
    "            desired_table = next_div.find(\"table\", recursive=False)\n",
    "    \n",
    "    if desired_table:\n",
    "\n",
    "        #Parsing html table to DataFrame\n",
    "        html_to_table = pd.read_html(StringIO(str(desired_table)))\n",
    "        Ranking = html_to_table[0]\n",
    "\n",
    "        # Normalising column name\n",
    "        if 'Porcentagem/ Pontos' in Ranking.columns: \n",
    "            Ranking = Ranking.rename(columns={'Porcentagem/ Pontos':'Porcent_dos_votos'})\n",
    "        if 'Porcentagem/ Votos' in Ranking.columns: \n",
    "            Ranking = Ranking.rename(columns={'Porcentagem/ Votos':'Porcent_dos_votos'})\n",
    "        Ranking = Ranking.rename(columns={'% dos votos':'Porcent_dos_votos'})\n",
    "\n",
    "        # Adding the year of the current file\n",
    "        Ranking['Edicao'] = url.rsplit('_', 1)[-1]\n",
    "\n",
    "        # Ensuring the Pos. column is always a string\n",
    "        Ranking['Pos'] = Ranking['Pos.'].astype(str)\n",
    "        Ranking = Ranking.drop(\"Pos.\", axis=1)\n",
    "\n",
    "        # Remove double ranking - take only first number\n",
    "        Ranking['Pos'] = Ranking['Pos'].apply(lambda x: x.split('-')[0] if '-' in x else x)\n",
    "        \n",
    "\n",
    "        # Remove Notes number from % Votes and Meio de indicacao\n",
    "        Ranking['Porcent_dos_votos'] = Ranking['Porcent_dos_votos'].str.replace(r'\\[.*', '', regex=True)\n",
    "        Ranking['Meio de indicacao'] = Ranking['Meio de indicacao'].str.replace(r'\\[.*', '', regex=True)\n",
    "\n",
    "        # Breakdown Meio de Indicacao into two columns: Meio and Nominated by\n",
    "        Ranking['Indicado por'] = Ranking['Meio de indicacao'].str.extract(r'\\((.*?)\\)')\n",
    "        Ranking['Indicado por'] = Ranking['Indicado por'].fillna(Ranking['Meio de indicacao'])\n",
    "        Ranking['Meio de indicacao'] = Ranking['Meio de indicacao'].str.replace(r'\\((.*?)\\)', '', regex=True)\n",
    "\n",
    "        # Some % Votes isn't %, it says \"disqualified\" or \"withdrawn\" in a merged cell.\n",
    "        Ranking['Porcent_dos_votos'] = Ranking.apply(lambda row: row['Porcent_dos_votos'].replace(row['Porcent_dos_votos'], row['Meio de indicacao']) if '%' not in row['Porcent_dos_votos'] else row['Porcent_dos_votos'], axis=1)\n",
    "        \n",
    "        # Replace -- in Eliminado em by Finalista\n",
    "        Ranking['Eliminado em'] = Ranking.apply(lambda row: row['Eliminado em'].replace('--', row['Meio de indicacao']) if '--' in row['Eliminado em'] else row['Eliminado em'], axis=1)\n",
    "\n",
    "        # Replacing spaces and commas, etc\n",
    "        Ranking.columns = [col.replace(' ', '_') for col in Ranking.columns]\n",
    "        Ranking[\"Porcent_dos_votos\"] = Ranking[\"Porcent_dos_votos\"].apply(lambda x: x.replace(',', '.') if isinstance(x, str) else x)\n",
    "        Ranking = Ranking.replace(\",\", \"_\", regex=True)\n",
    "        \n",
    "    \n",
    "    return Ranking\n",
    "\n",
    "# Appending the Rankings to one single dataframe\n",
    "\n",
    "base_url = \"https://pt.wikipedia.org/wiki/Big_Brother_Brasil_\"\n",
    "number_of_shows = 25\n",
    "\n",
    "urls = [f\"{base_url}{i}\" for i in range(1, number_of_shows + 1)]\n",
    "\n",
    "Combined_ranking = []\n",
    "\n",
    "for url in urls:\n",
    "    try:\n",
    "        ranking_new = ranking_scrape(url)\n",
    "        Combined_ranking.append(ranking_new)\n",
    "        print(f\"Ranking information for {url} appended\")\n",
    "    except Exception as e:\n",
    "        print(f\"Error processing {url}: {e}\")\n",
    "\n",
    "# Save to csv\n",
    "Ranking = pd.concat(Combined_ranking, ignore_index=True)\n",
    "\n",
    "Ranking.to_csv(f'ranking')\n",
    "\n",
    "\n",
    "\n",
    "print(Ranking[\"Pos\"].unique())  # Inspect unique values in Pos.\n",
    "display(Ranking.info())\n",
    "display(Ranking)"
   ]
  },
  {
   "cell_type": "code",
   "execution_count": 57,
   "id": "487b7c75-cb70-465e-8c9d-c3e3ce3fbe43",
   "metadata": {},
   "outputs": [
    {
     "name": "stdout",
     "output_type": "stream",
     "text": [
      "User: ANDREALEONEL\n",
      "Password: Buy100toasters\n",
      "Account: xf30579.eu-west-2.aws\n",
      "Warehouse: COMPUTE_WH\n",
      "Database: BIGBROTHERBRASIL\n",
      "Schema: WIKIPEDIA\n",
      "Role: ACCOUNTADMIN\n"
     ]
    }
   ],
   "source": [
    "# Load environment variables from .env file\n",
    "env_path = os.path.abspath(\"credentials.env\")\n",
    "\n",
    "# Load explicitly\n",
    "load_dotenv(dotenv_path=env_path, override=True)\n",
    "\n",
    "print(\"User:\", os.getenv(\"SNOWFLAKE_USER\"))\n",
    "print(\"Password:\", os.getenv(\"SNOWFLAKE_PASSWORD\"))\n",
    "print(\"Account:\", os.getenv(\"SNOWFLAKE_ACCOUNT\"))\n",
    "print(\"Warehouse:\", os.getenv(\"SNOWFLAKE_WAREHOUSE\"))\n",
    "print(\"Database:\", os.getenv(\"SNOWFLAKE_DATABASE\"))\n",
    "print(\"Schema:\", os.getenv(\"SNOWFLAKE_SCHEMA\"))\n",
    "print(\"Role:\", os.getenv(\"SNOWFLAKE_ROLE\"))"
   ]
  },
  {
   "cell_type": "code",
   "execution_count": 58,
   "id": "7790c953-fe33-463c-8ff9-086779b46774",
   "metadata": {},
   "outputs": [],
   "source": [
    "# Set logging level to DEBUG\n",
    "logging.basicConfig(level=logging.DEBUG)"
   ]
  },
  {
   "cell_type": "code",
   "execution_count": 59,
   "id": "dc2808d4-feee-4bcd-b54b-99e996ffc3d9",
   "metadata": {},
   "outputs": [
    {
     "name": "stderr",
     "output_type": "stream",
     "text": [
      "INFO:snowflake.connector.connection:Snowflake Connector for Python Version: 3.15.0, Python Version: 3.12.3, Platform: Windows-11-10.0.26100-SP0\n",
      "DEBUG:snowflake.connector.connection:connect\n",
      "DEBUG:snowflake.connector.connection:__config\n",
      "INFO:snowflake.connector.connection:Connecting to GLOBAL Snowflake domain\n",
      "DEBUG:snowflake.connector.connection:This connection is in OCSP Fail Open Mode. TLS Certificates would be checked for validity and revocation status. Any other Certificate Revocation related exceptions or OCSP Responder failures would be disregarded in favor of connectivity.\n",
      "DEBUG:snowflake.connector.converter:use_numpy: False\n",
      "DEBUG:snowflake.connector.converter_issue23517:initialized\n",
      "DEBUG:snowflake.connector.connection:REST API object was created: xf30579.eu-west-2.aws.snowflakecomputing.com:443\n",
      "DEBUG:snowflake.connector.auth._auth:authenticate\n",
      "DEBUG:snowflake.connector.auth._auth:account=xf30579, user=ANDREALEONEL, database=BIGBROTHERBRASIL, schema=WIKIPEDIA, warehouse=COMPUTE_WH, role=ACCOUNTADMIN, request_id=cf0c9b36-c392-41db-a267-6341d9a43ee2\n",
      "DEBUG:snowflake.connector.auth._auth:body['data']: {'CLIENT_APP_ID': 'PythonConnector', 'CLIENT_APP_VERSION': '3.15.0', 'SVN_REVISION': None, 'ACCOUNT_NAME': 'xf30579', 'LOGIN_NAME': 'ANDREALEONEL', 'CLIENT_ENVIRONMENT': {'APPLICATION': 'PythonConnector', 'OS': 'Windows', 'OS_VERSION': 'Windows-11-10.0.26100-SP0', 'PYTHON_VERSION': '3.12.3', 'PYTHON_RUNTIME': 'CPython', 'PYTHON_COMPILER': 'MSC v.1938 64 bit (AMD64)', 'OCSP_MODE': 'FAIL_OPEN', 'TRACING': 10, 'LOGIN_TIMEOUT': None, 'NETWORK_TIMEOUT': None, 'SOCKET_TIMEOUT': None}, 'PASSWORD': '******', 'SESSION_PARAMETERS': {'CLIENT_PREFETCH_THREADS': 4}}\n",
      "DEBUG:snowflake.connector.vendored.urllib3.util.retry:Converted retries value: 1 -> Retry(total=1, connect=None, read=None, redirect=None, status=None)\n",
      "DEBUG:snowflake.connector.vendored.urllib3.util.retry:Converted retries value: 1 -> Retry(total=1, connect=None, read=None, redirect=None, status=None)\n",
      "DEBUG:snowflake.connector.network:Session status for SessionPool 'xf30579.eu-west-2.aws.snowflakecomputing.com', SessionPool 1/1 active sessions\n",
      "DEBUG:snowflake.connector.network:remaining request timeout: N/A ms, retry cnt: 1\n",
      "DEBUG:snowflake.connector.network:Request guid: 84fe856a-b6f9-47cf-b0c6-2b6827c0d706\n",
      "DEBUG:snowflake.connector.network:socket timeout: 60\n",
      "DEBUG:snowflake.connector.vendored.urllib3.connectionpool:Starting new HTTPS connection (1): xf30579.eu-west-2.aws.snowflakecomputing.com:443\n",
      "DEBUG:snowflake.connector.ssl_wrap_socket:OCSP Mode: FAIL_OPEN, OCSP response cache file name: None\n",
      "DEBUG:snowflake.connector.ocsp_snowflake:ocsp_response_cache_uri: file://C:/Users/andre/AppData/Local/Snowflake/Caches/ocsp_response_cache.json\n",
      "DEBUG:snowflake.connector.ocsp_snowflake:OCSP_VALIDATION_CACHE size: 397\n",
      "DEBUG:snowflake.connector.ocsp_snowflake:OCSP response cache server is enabled: http://ocsp.snowflakecomputing.com/ocsp_response_cache.json\n",
      "DEBUG:snowflake.connector.ocsp_snowflake:OCSP dynamic cache server RETRY URL: None\n",
      "DEBUG:snowflake.connector.ocsp_snowflake:validating certificate: xf30579.eu-west-2.aws.snowflakecomputing.com\n",
      "DEBUG:snowflake.connector.ocsp_asn1crypto:# of certificates: 3\n",
      "DEBUG:snowflake.connector.ocsp_asn1crypto:subject: OrderedDict({'country_name': 'US', 'state_or_province_name': 'Montana', 'locality_name': 'Bozeman', 'organization_name': 'Snowflake Inc.', 'common_name': '*.eu-west-2.aws.snowflakecomputing.com'}), issuer: OrderedDict({'country_name': 'US', 'organization_name': 'DigiCert Inc', 'common_name': 'DigiCert Global G2 TLS RSA SHA256 2020 CA1'})\n",
      "DEBUG:snowflake.connector.ocsp_asn1crypto:subject: OrderedDict({'country_name': 'US', 'organization_name': 'DigiCert Inc', 'common_name': 'DigiCert Global G2 TLS RSA SHA256 2020 CA1'}), issuer: OrderedDict({'country_name': 'US', 'organization_name': 'DigiCert Inc', 'organizational_unit_name': 'www.digicert.com', 'common_name': 'DigiCert Global Root G2'})\n",
      "DEBUG:snowflake.connector.ocsp_asn1crypto:A trusted root certificate found: OrderedDict({'country_name': 'US', 'organization_name': 'DigiCert Inc', 'common_name': 'DigiCert Global G2 TLS RSA SHA256 2020 CA1'}), stopping chain traversal here\n",
      "DEBUG:snowflake.connector.ocsp_asn1crypto:not found issuer_der: OrderedDict({'country_name': 'US', 'organization_name': 'DigiCert Inc', 'organizational_unit_name': 'www.digicert.com', 'common_name': 'DigiCert Global Root G2'})\n",
      "DEBUG:snowflake.connector.ocsp_snowflake:hit cache for subject: OrderedDict({'country_name': 'US', 'state_or_province_name': 'Montana', 'locality_name': 'Bozeman', 'organization_name': 'Snowflake Inc.', 'common_name': '*.eu-west-2.aws.snowflakecomputing.com'})\n",
      "DEBUG:snowflake.connector.ocsp_snowflake:hit cache for subject: OrderedDict({'country_name': 'US', 'organization_name': 'DigiCert Inc', 'common_name': 'DigiCert Global G2 TLS RSA SHA256 2020 CA1'})\n",
      "DEBUG:snowflake.connector.ocsp_snowflake:ok\n",
      "DEBUG:snowflake.connector.vendored.urllib3.connectionpool:https://xf30579.eu-west-2.aws.snowflakecomputing.com:443 \"POST /session/v1/login-request?request_id=cf0c9b36-c392-41db-a267-6341d9a43ee2&databaseName=BIGBROTHERBRASIL&schemaName=WIKIPEDIA&warehouse=COMPUTE_WH&roleName=ACCOUNTADMIN&request_guid=84fe856a-b6f9-47cf-b0c6-2b6827c0d706 HTTP/1.1\" 200 5420\n",
      "DEBUG:snowflake.connector.network:SUCCESS\n",
      "DEBUG:snowflake.connector.network:Session status for SessionPool 'xf30579.eu-west-2.aws.snowflakecomputing.com', SessionPool 0/1 active sessions\n",
      "DEBUG:snowflake.connector.network:ret[code] = None, after post request\n",
      "DEBUG:snowflake.connector.auth._auth:completed authentication\n",
      "DEBUG:snowflake.connector.auth._auth:token = ******\n",
      "DEBUG:snowflake.connector.auth._auth:master_token = ******\n",
      "DEBUG:snowflake.connector.auth._auth:id_token = NULL\n",
      "DEBUG:snowflake.connector.auth._auth:mfa_token = NULL\n",
      "DEBUG:snowflake.connector.connection:cursor\n",
      "DEBUG:snowflake.connector.pandas_tools:creating stage with 'CREATE TEMP STAGE /* Python:snowflake.connector.pandas_tools.write_pandas() */ identifier(?) FILE_FORMAT=(TYPE=PARQUET COMPRESSION=gzip)'. params: ('BIGBROTHERBRASIL.WIKIPEDIA.hzkybxyzqr',)\n",
      "DEBUG:snowflake.connector.cursor:executing SQL/command\n",
      "DEBUG:snowflake.connector.cursor:query: [CREATE TEMP STAGE /* Python:snowflake.connector.pandas_tools.write_pandas() */ i...]\n",
      "DEBUG:snowflake.connector.connection:idx: 1, type: TEXT\n",
      "DEBUG:snowflake.connector.connection:sequence counter: 1\n",
      "DEBUG:snowflake.connector.cursor:Request id: ef7db08f-c9c3-4aa1-9a03-f4bf4d6d3ab4\n",
      "DEBUG:snowflake.connector.cursor:running query [CREATE TEMP STAGE /* Python:snowflake.connector.pandas_tools.write_pandas() */ i...]\n",
      "DEBUG:snowflake.connector.cursor:is_file_transfer: True\n",
      "DEBUG:snowflake.connector.connection:_cmd_query\n",
      "DEBUG:snowflake.connector._query_context_cache:serialize_to_dict() called\n",
      "DEBUG:snowflake.connector.connection:sql=[CREATE TEMP STAGE /* Python:snowflake.connector.pandas_tools.write_pandas() */ i...], sequence_id=[1], is_file_transfer=[False]\n",
      "DEBUG:snowflake.connector.network:Opentelemtry otel injection failed\n",
      "Traceback (most recent call last):\n",
      "  File \"C:\\Users\\andre\\anaconda3\\Lib\\site-packages\\snowflake\\connector\\network.py\", line 498, in request\n",
      "    from opentelemetry.trace.propagation.tracecontext import (\n",
      "ModuleNotFoundError: No module named 'opentelemetry'\n",
      "DEBUG:snowflake.connector.network:Session status for SessionPool 'xf30579.eu-west-2.aws.snowflakecomputing.com', SessionPool 1/1 active sessions\n",
      "DEBUG:snowflake.connector.network:remaining request timeout: N/A ms, retry cnt: 1\n",
      "DEBUG:snowflake.connector.network:Request guid: aa114725-ead6-40f2-a097-df40dd6f60f9\n",
      "DEBUG:snowflake.connector.network:socket timeout: 60\n",
      "DEBUG:snowflake.connector.vendored.urllib3.connectionpool:https://xf30579.eu-west-2.aws.snowflakecomputing.com:443 \"POST /queries/v1/query-request?requestId=ef7db08f-c9c3-4aa1-9a03-f4bf4d6d3ab4&request_guid=aa114725-ead6-40f2-a097-df40dd6f60f9 HTTP/1.1\" 200 None\n",
      "DEBUG:snowflake.connector.network:SUCCESS\n",
      "DEBUG:snowflake.connector.network:Session status for SessionPool 'xf30579.eu-west-2.aws.snowflakecomputing.com', SessionPool 0/1 active sessions\n",
      "DEBUG:snowflake.connector.network:ret[code] = None, after post request\n",
      "DEBUG:snowflake.connector.network:Query id: 01bd0176-0001-f6fd-0002-5a16000ed082\n",
      "DEBUG:snowflake.connector._query_context_cache:deserialize_json_dict() called: data from server: {'entries': [{'id': 0, 'timestamp': 1749833669575030, 'priority': 0, 'context': 'CPa3Hw=='}]}\n",
      "DEBUG:snowflake.connector._query_context_cache:deserialize {'id': 0, 'timestamp': 1749833669575030, 'priority': 0, 'context': 'CPa3Hw=='}\n",
      "DEBUG:snowflake.connector._query_context_cache:sync_priority_map called priority_map size = 0, new_priority_map size = 1\n",
      "DEBUG:snowflake.connector._query_context_cache:trim_cache() called. treeSet size is 1 and cache capacity is 5\n",
      "DEBUG:snowflake.connector._query_context_cache:trim_cache() returns. treeSet size is 1 and cache capacity is 5\n",
      "DEBUG:snowflake.connector._query_context_cache:deserialize_json_dict() returns\n",
      "DEBUG:snowflake.connector._query_context_cache:Cache Entry: (0, 1749833669575030, 0)\n",
      "DEBUG:snowflake.connector.cursor:sfqid: 01bd0176-0001-f6fd-0002-5a16000ed082\n",
      "DEBUG:snowflake.connector.cursor:query execution done\n",
      "DEBUG:snowflake.connector.cursor:SUCCESS\n",
      "DEBUG:snowflake.connector.cursor:PUT OR GET: False\n",
      "DEBUG:snowflake.connector.cursor:Query result format: json\n",
      "DEBUG:snowflake.connector.result_batch:parsing for result batch id: 1\n",
      "DEBUG:snowflake.connector.cursor:Number of results in first chunk: 1\n",
      "DEBUG:snowflake.connector.pandas_tools:uploading files with 'PUT /* Python:snowflake.connector.pandas_tools.write_pandas() */ 'file://C:\\\\Users\\\\andre\\\\AppData\\\\Local\\\\Temp\\\\tmpjfeuwpl9\\\\file0.txt' ? PARALLEL=4', params: ('@BIGBROTHERBRASIL.WIKIPEDIA.hzkybxyzqr',)\n",
      "DEBUG:snowflake.connector.cursor:executing SQL/command\n",
      "DEBUG:snowflake.connector.cursor:query: [PUT /* Python:snowflake.connector.pandas_tools.write_pandas() */ 'file://C:\\\\Use...]\n",
      "DEBUG:snowflake.connector.connection:idx: 1, type: TEXT\n",
      "DEBUG:snowflake.connector.connection:sequence counter: 2\n",
      "DEBUG:snowflake.connector.cursor:Request id: aff42f7e-c7f1-4e8f-b921-500f2b749a23\n",
      "DEBUG:snowflake.connector.cursor:running query [PUT /* Python:snowflake.connector.pandas_tools.write_pandas() */ 'file://C:\\\\Use...]\n",
      "DEBUG:snowflake.connector.cursor:is_file_transfer: True\n",
      "DEBUG:snowflake.connector.connection:_cmd_query\n",
      "DEBUG:snowflake.connector._query_context_cache:serialize_to_dict() called\n",
      "DEBUG:snowflake.connector._query_context_cache:Cache Entry: (0, 1749833669575030, 0)\n",
      "DEBUG:snowflake.connector._query_context_cache:serialize_to_dict(): data to send to server {'entries': [{'id': 0, 'timestamp': 1749833669575030, 'priority': 0, 'context': {'base64Data': 'CPa3Hw=='}}]}\n",
      "DEBUG:snowflake.connector.connection:sql=[PUT /* Python:snowflake.connector.pandas_tools.write_pandas() */ 'file://C:\\\\Use...], sequence_id=[2], is_file_transfer=[True]\n",
      "DEBUG:snowflake.connector.network:Opentelemtry otel injection failed\n",
      "Traceback (most recent call last):\n",
      "  File \"C:\\Users\\andre\\anaconda3\\Lib\\site-packages\\snowflake\\connector\\network.py\", line 498, in request\n",
      "    from opentelemetry.trace.propagation.tracecontext import (\n",
      "ModuleNotFoundError: No module named 'opentelemetry'\n",
      "DEBUG:snowflake.connector.network:Session status for SessionPool 'xf30579.eu-west-2.aws.snowflakecomputing.com', SessionPool 1/1 active sessions\n",
      "DEBUG:snowflake.connector.network:remaining request timeout: N/A ms, retry cnt: 1\n",
      "DEBUG:snowflake.connector.network:Request guid: 40c1f457-d27a-4960-8d79-bf2637d36b71\n",
      "DEBUG:snowflake.connector.network:socket timeout: 60\n",
      "DEBUG:snowflake.connector.vendored.urllib3.connectionpool:https://xf30579.eu-west-2.aws.snowflakecomputing.com:443 \"POST /queries/v1/query-request?requestId=aff42f7e-c7f1-4e8f-b921-500f2b749a23&request_guid=40c1f457-d27a-4960-8d79-bf2637d36b71 HTTP/1.1\" 200 None\n",
      "DEBUG:snowflake.connector.network:SUCCESS\n",
      "DEBUG:snowflake.connector.network:Session status for SessionPool 'xf30579.eu-west-2.aws.snowflakecomputing.com', SessionPool 0/1 active sessions\n",
      "DEBUG:snowflake.connector.network:ret[code] = None, after post request\n",
      "DEBUG:snowflake.connector.network:Query id: 01bd0176-0001-f659-0002-5a16000e51c6\n",
      "DEBUG:snowflake.connector.cursor:sfqid: 01bd0176-0001-f659-0002-5a16000e51c6\n",
      "DEBUG:snowflake.connector.cursor:query execution done\n",
      "DEBUG:snowflake.connector.cursor:SUCCESS\n",
      "DEBUG:snowflake.connector.cursor:PUT OR GET: True\n",
      "DEBUG:snowflake.connector.file_transfer_agent:UPLOAD\n",
      "DEBUG:snowflake.connector.file_transfer_agent:command type: UPLOAD\n",
      "DEBUG:snowflake.connector.file_transfer_agent:detected the encoding parquet: file=C:\\Users\\andre\\AppData\\Local\\Temp\\tmpjfeuwpl9\\file0.txt\n",
      "DEBUG:snowflake.connector.storage_client:retry #0\n",
      "DEBUG:snowflake.connector.vendored.urllib3.util.retry:Converted retries value: 1 -> Retry(total=1, connect=None, read=None, redirect=None, status=None)\n",
      "DEBUG:snowflake.connector.vendored.urllib3.util.retry:Converted retries value: 1 -> Retry(total=1, connect=None, read=None, redirect=None, status=None)\n",
      "DEBUG:snowflake.connector.network:Session status for SessionPool 'b'sfc-uk-ds1-24-customer-stage.s3.amazonaws.com'', SessionPool 1/1 active sessions\n",
      "DEBUG:snowflake.connector.storage_client:storage client request with session <snowflake.connector.vendored.requests.sessions.Session object at 0x0000025742A48050>\n",
      "DEBUG:snowflake.connector.vendored.urllib3.connectionpool:Starting new HTTPS connection (1): sfc-uk-ds1-24-customer-stage.s3.amazonaws.com:443\n",
      "DEBUG:snowflake.connector.ssl_wrap_socket:OCSP Mode: FAIL_OPEN, OCSP response cache file name: None\n",
      "DEBUG:snowflake.connector.ocsp_snowflake:ocsp_response_cache_uri: file://C:/Users/andre/AppData/Local/Snowflake/Caches/ocsp_response_cache.json\n",
      "DEBUG:snowflake.connector.ocsp_snowflake:OCSP_VALIDATION_CACHE size: 397\n",
      "DEBUG:snowflake.connector.ocsp_snowflake:OCSP response cache server is enabled: http://ocsp.snowflakecomputing.com/ocsp_response_cache.json\n",
      "DEBUG:snowflake.connector.ocsp_snowflake:OCSP dynamic cache server RETRY URL: None\n",
      "DEBUG:snowflake.connector.ocsp_snowflake:validating certificate: sfc-uk-ds1-24-customer-stage.s3.amazonaws.com\n",
      "DEBUG:snowflake.connector.ocsp_asn1crypto:# of certificates: 4\n",
      "DEBUG:snowflake.connector.ocsp_asn1crypto:subject: OrderedDict({'common_name': '*.s3.amazonaws.com'}), issuer: OrderedDict({'country_name': 'US', 'organization_name': 'Amazon', 'common_name': 'Amazon RSA 2048 M01'})\n",
      "DEBUG:snowflake.connector.ocsp_asn1crypto:subject: OrderedDict({'country_name': 'US', 'organization_name': 'Amazon', 'common_name': 'Amazon RSA 2048 M01'}), issuer: OrderedDict({'country_name': 'US', 'organization_name': 'Amazon', 'common_name': 'Amazon Root CA 1'})\n",
      "DEBUG:snowflake.connector.ocsp_asn1crypto:A trusted root certificate found: OrderedDict({'country_name': 'US', 'organization_name': 'Amazon', 'common_name': 'Amazon RSA 2048 M01'}), stopping chain traversal here\n",
      "DEBUG:snowflake.connector.ocsp_asn1crypto:not found issuer_der: OrderedDict({'country_name': 'US', 'organization_name': 'Amazon', 'common_name': 'Amazon Root CA 1'})\n",
      "DEBUG:snowflake.connector.ocsp_snowflake:hit cache for subject: OrderedDict({'common_name': '*.s3.amazonaws.com'})\n",
      "DEBUG:snowflake.connector.ocsp_asn1crypto:Verifying the attached certificate is signed by the issuer. Valid Not After: 2026-07-22 00:00:00+00:00\n",
      "DEBUG:snowflake.connector.ocsp_snowflake:hit cache for subject: OrderedDict({'country_name': 'US', 'organization_name': 'Amazon', 'common_name': 'Amazon RSA 2048 M01'})\n",
      "DEBUG:snowflake.connector.ocsp_snowflake:ok\n",
      "DEBUG:snowflake.connector.vendored.urllib3.connectionpool:https://sfc-uk-ds1-24-customer-stage.s3.amazonaws.com:443 \"GET /?accelerate HTTP/1.1\" 403 None\n",
      "DEBUG:snowflake.connector.network:Session status for SessionPool 'b'sfc-uk-ds1-24-customer-stage.s3.amazonaws.com'', SessionPool 0/1 active sessions\n",
      "DEBUG:snowflake.connector.storage_client:cleaning up tmp dir: C:\\Users\\andre\\AppData\\Local\\Temp\\tmp_yjvf_sf\n",
      "DEBUG:snowflake.connector.file_transfer_agent:parallel=[4]\n",
      "DEBUG:snowflake.connector.file_transfer_agent:Decided IO-bound TPE size: 1\n",
      "DEBUG:snowflake.connector.file_transfer_agent:Chunk ThreadPoolExecutor size: 4\n",
      "DEBUG:snowflake.connector.file_transfer_agent:Going to upload 1 files\n",
      "DEBUG:snowflake.connector.storage_client:Preprocessing C:\\Users\\andre\\AppData\\Local\\Temp\\tmpjfeuwpl9\\file0.txt\n",
      "DEBUG:snowflake.connector.storage_client:retry #0\n",
      "DEBUG:snowflake.connector.network:Session status for SessionPool 'b'sfc-uk-ds1-24-customer-stage.s3.amazonaws.com'', SessionPool 1/1 active sessions\n",
      "DEBUG:snowflake.connector.storage_client:storage client request with session <snowflake.connector.vendored.requests.sessions.Session object at 0x0000025742A48050>\n",
      "DEBUG:snowflake.connector.vendored.urllib3.connectionpool:https://sfc-uk-ds1-24-customer-stage.s3.amazonaws.com:443 \"HEAD /fv7z0000-s/stages/bef1ba06-9f9f-486d-a6af-aefe2a083071/file0.txt HTTP/1.1\" 404 0\n",
      "DEBUG:snowflake.connector.network:Session status for SessionPool 'b'sfc-uk-ds1-24-customer-stage.s3.amazonaws.com'', SessionPool 0/1 active sessions\n",
      "DEBUG:snowflake.connector.s3_storage_client:not found. bucket: sfc-uk-ds1-24-customer-stage, path: fv7z0000-s/stages/bef1ba06-9f9f-486d-a6af-aefe2a083071/file0.txt\n",
      "DEBUG:snowflake.connector.storage_client:getting digest file=C:\\Users\\andre\\AppData\\Local\\Temp\\tmpjfeuwpl9\\file0.txt\n",
      "DEBUG:snowflake.connector.file_util:getting digest and size: J5pzlE42azTWLcBgzkaBOxUBrLcnoicpfU7XS2Z6FqE=, 13644, file=C:\\Users\\andre\\AppData\\Local\\Temp\\tmpjfeuwpl9\\file0.txt\n",
      "DEBUG:snowflake.connector.storage_client:getting digest file=C:\\Users\\andre\\AppData\\Local\\Temp\\tmpjfeuwpl9\\file0.txt\n",
      "DEBUG:snowflake.connector.file_util:getting digest and size: J5pzlE42azTWLcBgzkaBOxUBrLcnoicpfU7XS2Z6FqE=, 13644, file=C:\\Users\\andre\\AppData\\Local\\Temp\\tmpjfeuwpl9\\file0.txt\n",
      "DEBUG:snowflake.connector.storage_client:Preparing to upload C:\\Users\\andre\\AppData\\Local\\Temp\\tmpjfeuwpl9\\file0.txt\n",
      "DEBUG:snowflake.connector.storage_client:encrypting file=C:\\Users\\andre\\AppData\\Local\\Temp\\tmpjfeuwpl9\\file0.txt\n",
      "DEBUG:snowflake.connector.encryption_util:unencrypted file: C:\\Users\\andre\\AppData\\Local\\Temp\\tmpjfeuwpl9\\file0.txt, temp file: C:\\Users\\andre\\AppData\\Local\\Temp\\tmp9bysn3ix\\file0.txt#f_im6uns, tmp_dir: C:\\Users\\andre\\AppData\\Local\\Temp\\tmp9bysn3ix\n",
      "DEBUG:snowflake.connector.encryption_util:key_size = 16\n",
      "DEBUG:snowflake.connector.storage_client:finished preprocessing\n",
      "DEBUG:snowflake.connector.storage_client:number of chunks 1\n",
      "DEBUG:snowflake.connector.file_transfer_agent:Finished preparing file file0.txt\n",
      "DEBUG:snowflake.connector.storage_client:Uploading chunk 0 of file C:\\Users\\andre\\AppData\\Local\\Temp\\tmp9bysn3ix\\file0.txt#f_im6uns\n",
      "DEBUG:snowflake.connector.storage_client:retry #0\n",
      "DEBUG:snowflake.connector.network:Session status for SessionPool 'b'sfc-uk-ds1-24-customer-stage.s3.amazonaws.com'', SessionPool 1/1 active sessions\n",
      "DEBUG:snowflake.connector.storage_client:storage client request with session <snowflake.connector.vendored.requests.sessions.Session object at 0x0000025742A48050>\n",
      "DEBUG:snowflake.connector.vendored.urllib3.connectionpool:https://sfc-uk-ds1-24-customer-stage.s3.amazonaws.com:443 \"PUT /fv7z0000-s/stages/bef1ba06-9f9f-486d-a6af-aefe2a083071/file0.txt HTTP/1.1\" 200 0\n",
      "DEBUG:snowflake.connector.network:Session status for SessionPool 'b'sfc-uk-ds1-24-customer-stage.s3.amazonaws.com'', SessionPool 0/1 active sessions\n",
      "DEBUG:snowflake.connector.storage_client:Successfully uploaded chunk 0 of file C:\\Users\\andre\\AppData\\Local\\Temp\\tmp9bysn3ix\\file0.txt#f_im6uns\n",
      "DEBUG:snowflake.connector.file_transfer_agent:Chunk(id: 0) 1/1 of file file0.txt reached callback\n",
      "DEBUG:snowflake.connector.file_transfer_agent:Chunk progress: file0.txt: completed: 1 failed: 0 total: 1\n",
      "DEBUG:snowflake.connector.storage_client:C:\\Users\\andre\\AppData\\Local\\Temp\\tmpjfeuwpl9\\file0.txt upload is completed.\n",
      "DEBUG:snowflake.connector.storage_client:cleaning up tmp dir: C:\\Users\\andre\\AppData\\Local\\Temp\\tmp9bysn3ix\n",
      "DEBUG:snowflake.connector.file_transfer_agent:raise_put_get_error: True, UPLOADED, <class 'str'>, ResultStatus.ERROR, <enum 'ResultStatus'>\n",
      "DEBUG:snowflake.connector.cursor:Query result format: json\n",
      "DEBUG:snowflake.connector.result_batch:parsing for result batch id: 1\n",
      "DEBUG:snowflake.connector.pandas_tools:copying into with 'COPY INTO identifier(?) /* Python:snowflake.connector.pandas_tools.write_pandas() */ (Participante,Meio_de_indicacao,Porcent_dos_votos,Eliminado_em,Edicao,Pos,Indicado_por) FROM (SELECT $1:Participante,$1:Meio_de_indicacao,$1:Porcent_dos_votos,$1:Eliminado_em,$1:Edicao,$1:Pos,$1:Indicado_por FROM @BIGBROTHERBRASIL.WIKIPEDIA.hzkybxyzqr) FILE_FORMAT=(TYPE=PARQUET COMPRESSION=auto) PURGE=TRUE ON_ERROR=?'. params: ('BIGBROTHERBRASIL.WIKIPEDIA.RANKING', 'abort_statement')\n",
      "DEBUG:snowflake.connector.cursor:executing SQL/command\n",
      "DEBUG:snowflake.connector.cursor:query: [COPY INTO identifier(?) /* Python:snowflake.connector.pandas_tools.write_pandas(...]\n",
      "DEBUG:snowflake.connector.connection:idx: 1, type: TEXT\n",
      "DEBUG:snowflake.connector.connection:idx: 2, type: TEXT\n",
      "DEBUG:snowflake.connector.connection:sequence counter: 3\n",
      "DEBUG:snowflake.connector.cursor:Request id: e0664c76-fa55-4195-9c38-819a4ebd7989\n",
      "DEBUG:snowflake.connector.cursor:running query [COPY INTO identifier(?) /* Python:snowflake.connector.pandas_tools.write_pandas(...]\n",
      "DEBUG:snowflake.connector.cursor:is_file_transfer: True\n",
      "DEBUG:snowflake.connector.connection:_cmd_query\n",
      "DEBUG:snowflake.connector._query_context_cache:serialize_to_dict() called\n",
      "DEBUG:snowflake.connector._query_context_cache:Cache Entry: (0, 1749833669575030, 0)\n",
      "DEBUG:snowflake.connector._query_context_cache:serialize_to_dict(): data to send to server {'entries': [{'id': 0, 'timestamp': 1749833669575030, 'priority': 0, 'context': {'base64Data': 'CPa3Hw=='}}]}\n",
      "DEBUG:snowflake.connector.connection:sql=[COPY INTO identifier(?) /* Python:snowflake.connector.pandas_tools.write_pandas(...], sequence_id=[3], is_file_transfer=[False]\n",
      "DEBUG:snowflake.connector.network:Opentelemtry otel injection failed\n",
      "Traceback (most recent call last):\n",
      "  File \"C:\\Users\\andre\\anaconda3\\Lib\\site-packages\\snowflake\\connector\\network.py\", line 498, in request\n",
      "    from opentelemetry.trace.propagation.tracecontext import (\n",
      "ModuleNotFoundError: No module named 'opentelemetry'\n",
      "DEBUG:snowflake.connector.network:Session status for SessionPool 'xf30579.eu-west-2.aws.snowflakecomputing.com', SessionPool 1/1 active sessions\n",
      "DEBUG:snowflake.connector.network:remaining request timeout: N/A ms, retry cnt: 1\n",
      "DEBUG:snowflake.connector.network:Request guid: 0abb26e7-7de2-45ec-aacf-db27317e5b58\n",
      "DEBUG:snowflake.connector.network:socket timeout: 60\n",
      "DEBUG:snowflake.connector.vendored.urllib3.connectionpool:https://xf30579.eu-west-2.aws.snowflakecomputing.com:443 \"POST /queries/v1/query-request?requestId=e0664c76-fa55-4195-9c38-819a4ebd7989&request_guid=0abb26e7-7de2-45ec-aacf-db27317e5b58 HTTP/1.1\" 200 None\n",
      "DEBUG:snowflake.connector.network:SUCCESS\n",
      "DEBUG:snowflake.connector.network:Session status for SessionPool 'xf30579.eu-west-2.aws.snowflakecomputing.com', SessionPool 0/1 active sessions\n",
      "DEBUG:snowflake.connector.network:ret[code] = None, after post request\n",
      "DEBUG:snowflake.connector.network:Query id: 01bd0176-0001-f6fd-0002-5a16000ed086\n",
      "DEBUG:snowflake.connector._query_context_cache:deserialize_json_dict() called: data from server: {'entries': [{'id': 0, 'timestamp': 1749833671594126, 'priority': 0, 'context': 'CPa3Hw=='}]}\n",
      "DEBUG:snowflake.connector._query_context_cache:Cache Entry: (0, 1749833669575030, 0)\n",
      "DEBUG:snowflake.connector._query_context_cache:deserialize {'id': 0, 'timestamp': 1749833671594126, 'priority': 0, 'context': 'CPa3Hw=='}\n",
      "DEBUG:snowflake.connector._query_context_cache:sync_priority_map called priority_map size = 0, new_priority_map size = 1\n",
      "DEBUG:snowflake.connector._query_context_cache:trim_cache() called. treeSet size is 1 and cache capacity is 5\n",
      "DEBUG:snowflake.connector._query_context_cache:trim_cache() returns. treeSet size is 1 and cache capacity is 5\n",
      "DEBUG:snowflake.connector._query_context_cache:deserialize_json_dict() returns\n",
      "DEBUG:snowflake.connector._query_context_cache:Cache Entry: (0, 1749833671594126, 0)\n",
      "DEBUG:snowflake.connector.cursor:sfqid: 01bd0176-0001-f6fd-0002-5a16000ed086\n",
      "DEBUG:snowflake.connector.cursor:query execution done\n",
      "DEBUG:snowflake.connector.cursor:SUCCESS\n",
      "DEBUG:snowflake.connector.cursor:PUT OR GET: False\n",
      "DEBUG:snowflake.connector.cursor:Query result format: json\n",
      "DEBUG:snowflake.connector.result_batch:parsing for result batch id: 1\n",
      "DEBUG:snowflake.connector.cursor:Number of results in first chunk: 1\n",
      "DEBUG:snowflake.connector.result_set:beginning to schedule result batch downloads\n",
      "DEBUG:snowflake.connector.connection:closed\n",
      "DEBUG:snowflake.connector.telemetry:Closing telemetry client.\n",
      "DEBUG:snowflake.connector.telemetry:Sending 1 logs to telemetry. Data is {'logs': [{'message': {'driver_type': 'PythonConnector', 'driver_version': '3.15.0', 'source': 'PythonConnector', 'type': 'client_imported_packages', 'value': \"{'unicodedata2', 'inspect', 'profile', 'ipykernel', 'jmespath', 'executing', 'genericpath', 'cryptography', 'operator', 'reprlib', 'runpy', 'pydevconsole', 'six', 'os', 'linecache', 'plistlib', 'hmac', 'types', 'sysconfig', 'typing_extensions', 'winreg', 'zope', 'nt', 'numexpr', 'marshal', 'certifi', 'pydevd_plugins', 'pydoc_data', 'pydevd', 'comm', 'contextvars', 'warnings', 'pyarrow', 'http', 'pickleshare', 'nturl2path', 'site', 'uuid', 'debugpy', 'locale', 'asyncio', 'stringprep', 'wcwidth', 'snowflake', 'boto3', 'threading', 'zstandard', 'stat', 'quopri', 'OpenSSL', 'jupyter_core', 'dotenv', 'signal', 'cmd', 'colorama', 'psutil', 'base64', 'ast', 'pkgutil', 'dateutil', 'gc', 'mmap', 'decimal', 'mkl', 'copy', 'pprint', 'asttokens', 'brotli', 'collections', 'sphinxcontrib', 'code', 'stack_data', 'copyreg', 'jupyter_client', 'IPython', 'tornado', 'colorsys', 'decorator', 'calendar', 'botocore', 'hashlib', 'pydev_ipython', 'importlib', 'asn1crypto', 'bz2', 'posixpath', 'dataclasses', 'argparse', 'pydevd_file_utils', 'time', 'enum', 'getpass', 'atexit', 'queue', 'selectors', 'zlib', 'csv', 'faulthandler', 'typing', 'itertools', 'pytz', 'zmq', 'timeit', 'ruamel', 'webbrowser', 'pure_eval', 'ipaddress', 'email', 'sqlite3', 'configparser', 'struct', 'cloudpickle', 'bs4', 'functools', 'tempfile', 'array', 'ntpath', 'encodings', 'parso', 'sys', 'contextlib', 'zipfile', 'jedi', 'shlex', 'msvcrt', 'io', 'keyring', 'datetime', 'socket', 'json', 'html5lib', 'keyword', 'fractions', 'shutil', 'ctypes', 'xmlrpc', 're', 'logging', 'string', 'socks', 'pdb', 'urllib', 'secrets', 'platform', 'pathlib', 'numbers', 'cmath', 'cProfile', 'unidecode', 'math', 'pydevd_tracing', 'requests', 'jaraco', 'pkg_resources', 'tarfile', 'weakref', 'socketserver', 'binascii', 'pygments', 'subprocess', 'zoneinfo', 'cython_runtime', 'html', 'netrc', 'random', 'heapq', 'pyexpat', 'codecs', 'jwt', 'pandas', 'urllib3', 'codeop', 'idna', 'soupsieve', 'pydoc', 'chardet', 'traitlets', 'token', 'charset_normalizer', 'lxml', 'filecmp', 'ssl', 'mimetypes', 'abc', 'getopt', 'zipimport', 'tomlkit', 'concurrent', 'xml', 'select', 'pstats', 'tokenize', 'traceback', 'dis', 'errno', 'glob', 'builtins', 'webencodings', 'opcode', 'platformdirs', 'fnmatch', 'filelock', 'lzma', 'difflib', 'sortedcontainers', 'bcrypt', 'gettext', 'textwrap', 'unicodedata', 'numpy', 'bisect', 'google', 'bdb', 'gzip', 'pickle', 'prompt_toolkit', 'packaging', 'bottleneck'}\"}, 'timestamp': '1749833669695'}, {'message': {'driver_type': 'PythonConnector', 'driver_version': '3.15.0', 'source': 'PythonConnector', 'type': 'client_time_consume_first_result', 'query_id': '01bd0176-0001-f6fd-0002-5a16000ed082', 'value': 289}, 'timestamp': '1749833669867'}, {'message': {'driver_type': 'PythonConnector', 'driver_version': '3.15.0', 'source': 'PythonConnector', 'type': 'client_time_consume_first_result', 'query_id': '01bd0176-0001-f6fd-0002-5a16000ed086', 'value': 289}, 'timestamp': '1749833671888'}, {'message': {'driver_type': 'PythonConnector', 'driver_version': '3.15.0', 'source': 'PythonConnector', 'type': 'client_time_consume_last_result', 'query_id': '01bd0176-0001-f6fd-0002-5a16000ed086', 'value': 7}, 'timestamp': '1749833671895'}, {'message': {'driver_type': 'PythonConnector', 'driver_version': '3.15.0', 'source': 'PythonConnector', 'type': 'client_write_pandas', 'query_id': '01bd0176-0001-f6fd-0002-5a16000ed086', 'value': 1}, 'timestamp': '1749833671895'}]}.\n",
      "DEBUG:snowflake.connector.network:Opentelemtry otel injection failed\n",
      "Traceback (most recent call last):\n",
      "  File \"C:\\Users\\andre\\anaconda3\\Lib\\site-packages\\snowflake\\connector\\network.py\", line 498, in request\n",
      "    from opentelemetry.trace.propagation.tracecontext import (\n",
      "ModuleNotFoundError: No module named 'opentelemetry'\n",
      "DEBUG:snowflake.connector.network:Session status for SessionPool 'xf30579.eu-west-2.aws.snowflakecomputing.com', SessionPool 1/1 active sessions\n",
      "DEBUG:snowflake.connector.network:remaining request timeout: 5000 ms, retry cnt: 1\n",
      "DEBUG:snowflake.connector.network:Request guid: 573871c7-f252-4de3-9640-caf2ccc34950\n",
      "DEBUG:snowflake.connector.network:socket timeout: 60\n",
      "DEBUG:snowflake.connector.vendored.urllib3.connectionpool:https://xf30579.eu-west-2.aws.snowflakecomputing.com:443 \"POST /telemetry/send?request_guid=573871c7-f252-4de3-9640-caf2ccc34950 HTTP/1.1\" 200 None\n",
      "DEBUG:snowflake.connector.network:SUCCESS\n",
      "DEBUG:snowflake.connector.network:Session status for SessionPool 'xf30579.eu-west-2.aws.snowflakecomputing.com', SessionPool 0/1 active sessions\n",
      "DEBUG:snowflake.connector.network:ret[code] = None, after post request\n",
      "DEBUG:snowflake.connector.telemetry:Successfully uploading metrics to telemetry.\n",
      "DEBUG:snowflake.connector.connection:No async queries seem to be running, deleting session\n",
      "DEBUG:snowflake.connector.network:Session status for SessionPool 'xf30579.eu-west-2.aws.snowflakecomputing.com', SessionPool 1/1 active sessions\n",
      "DEBUG:snowflake.connector.network:remaining request timeout: 5000 ms, retry cnt: 1\n",
      "DEBUG:snowflake.connector.network:Request guid: efdf7c5e-3861-4275-ad27-87a3595f4e5c\n",
      "DEBUG:snowflake.connector.network:socket timeout: 60\n",
      "DEBUG:snowflake.connector.vendored.urllib3.connectionpool:https://xf30579.eu-west-2.aws.snowflakecomputing.com:443 \"POST /session?delete=true&request_guid=efdf7c5e-3861-4275-ad27-87a3595f4e5c HTTP/1.1\" 200 None\n",
      "DEBUG:snowflake.connector.network:SUCCESS\n",
      "DEBUG:snowflake.connector.network:Session status for SessionPool 'xf30579.eu-west-2.aws.snowflakecomputing.com', SessionPool 0/1 active sessions\n",
      "DEBUG:snowflake.connector.network:ret[code] = None, after post request\n",
      "DEBUG:snowflake.connector._query_context_cache:clear_cache() called\n",
      "DEBUG:snowflake.connector.connection:Session is closed\n"
     ]
    },
    {
     "name": "stdout",
     "output_type": "stream",
     "text": [
      "Successfully uploaded 451 rows\n"
     ]
    }
   ],
   "source": [
    "# Access Snowflake credentials from environment variables\n",
    "conn_params = {\n",
    "    'user': os.getenv('SNOWFLAKE_USER'),\n",
    "    'password': os.getenv('SNOWFLAKE_PASSWORD'),\n",
    "    'account': os.getenv('SNOWFLAKE_ACCOUNT'),\n",
    "    'warehouse': os.getenv('SNOWFLAKE_WAREHOUSE'),\n",
    "    'database': os.getenv('SNOWFLAKE_DATABASE'),\n",
    "    'schema': os.getenv('SNOWFLAKE_SCHEMA'),\n",
    "    'role': os.getenv('SNOWFLAKE_ROLE'),\n",
    "}\n",
    "\n",
    "# Connect and upload\n",
    "conn = snowflake.connector.connect(**conn_params)\n",
    "success, nchunks, nrows, _ = write_pandas(conn, Ranking, table_name='RANKING', database='BIGBROTHERBRASIL', schema='WIKIPEDIA', quote_identifiers=False)\n",
    "\n",
    "if success:\n",
    "    print(f'Successfully uploaded {nrows} rows')\n",
    "else:\n",
    "    print('Upload failed')\n",
    "\n",
    "conn.close()"
   ]
  },
  {
   "cell_type": "code",
   "execution_count": null,
   "id": "e1b08c5c-a379-4b6b-ad98-53432cfe9d3c",
   "metadata": {},
   "outputs": [],
   "source": []
  }
 ],
 "metadata": {
  "kernelspec": {
   "display_name": "Python 3 (ipykernel)",
   "language": "python",
   "name": "python3"
  },
  "language_info": {
   "codemirror_mode": {
    "name": "ipython",
    "version": 3
   },
   "file_extension": ".py",
   "mimetype": "text/x-python",
   "name": "python",
   "nbconvert_exporter": "python",
   "pygments_lexer": "ipython3",
   "version": "3.12.3"
  }
 },
 "nbformat": 4,
 "nbformat_minor": 5
}
